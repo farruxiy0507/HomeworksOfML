{
 "cells": [
  {
   "cell_type": "code",
   "execution_count": 1,
   "metadata": {},
   "outputs": [],
   "source": [
    "from lxml import etree"
   ]
  },
  {
   "cell_type": "code",
   "execution_count": 2,
   "metadata": {},
   "outputs": [],
   "source": [
    "from typing import List, Tuple"
   ]
  },
  {
   "cell_type": "code",
   "execution_count": 3,
   "metadata": {},
   "outputs": [],
   "source": [
    "def load_sentirueval_2016(file_name: str) -> Tuple[List[str], List[str]]:\n",
    "    texts = []\n",
    "    labels = []\n",
    "    with open(file_name, mode='rb') as fp:\n",
    "        xml_data = fp.read()\n",
    "    root = etree.fromstring(xml_data)\n",
    "    for database in root.getchildren():\n",
    "        if database.tag == 'database':\n",
    "            for table in database.getchildren():\n",
    "                if table.tag != 'table':\n",
    "                    continue\n",
    "                new_text = None\n",
    "                new_label = None\n",
    "                for column in table.getchildren():\n",
    "                    if column.get('name') == 'text':\n",
    "                        new_text = str(column.text).strip()\n",
    "                        if new_label is not None:\n",
    "                            break\n",
    "                    elif column.get('name') not in {'id', 'twitid', 'date'}:\n",
    "                        if new_label is None:\n",
    "                            label_candidate = str(column.text).strip()\n",
    "                            if label_candidate in {'0', '1', '-1'}:\n",
    "                                new_label = 'negative' if label_candidate == '-1' else \\\n",
    "                                    ('positive' if label_candidate == '1' else 'neutral')\n",
    "                                if new_text is not None:\n",
    "                                    break\n",
    "                if (new_text is None) or (new_label is None):\n",
    "                    raise ValueError('File `{0}` contains some error!'.format(file_name))\n",
    "                texts.append(new_text)\n",
    "                labels.append(new_label)\n",
    "            break\n",
    "    return texts, labels"
   ]
  },
  {
   "cell_type": "code",
   "execution_count": 4,
   "metadata": {},
   "outputs": [],
   "source": [
    "texts, labels = load_sentirueval_2016('bank_train_2016.xml')"
   ]
  },
  {
   "cell_type": "code",
   "execution_count": 5,
   "metadata": {},
   "outputs": [
    {
     "name": "stdout",
     "output_type": "stream",
     "text": [
      "Number of texts is 9392, number of labels is 9392.\n"
     ]
    }
   ],
   "source": [
    "print('Number of texts is {0}, number of labels is {1}.'.format(len(texts), len(labels)))"
   ]
  },
  {
   "cell_type": "code",
   "execution_count": 6,
   "metadata": {},
   "outputs": [],
   "source": [
    "from nltk.tokenize import TweetTokenizer\n",
    "from rnnmorph.predictor import RNNMorphPredictor\n",
    "\n",
    "predictor = RNNMorphPredictor(language='ru')\n",
    "tokenizer = TweetTokenizer()\n",
    "\n",
    "def drop_junk(s):\n",
    "    return ' '.join([word for word in tokenizer.tokenize(s) if word.isalpha() or '!' in word or '?' in word \\\n",
    "                     or '(' in word or ')' in word])\n",
    "\n",
    "def lemmatization(s):\n",
    "    toks = tokenizer.tokenize(s)\n",
    "    forms = predictor.predict(toks)\n",
    "    return ' '.join([f.normal_form for f in forms])\n",
    "\n",
    "texts, labels = load_sentirueval_2016('bank_train_2016.xml')\n",
    "\n",
    "texts = list(map(drop_junk, texts))\n",
    "texts = list(map(lemmatization, texts))"
   ]
  },
  {
   "cell_type": "code",
   "execution_count": 7,
   "metadata": {},
   "outputs": [],
   "source": [
    "from stop_words import get_stop_words\n",
    "\n",
    "stop_words = get_stop_words('ru')"
   ]
  },
  {
   "cell_type": "code",
   "execution_count": null,
   "metadata": {},
   "outputs": [],
   "source": []
  },
  {
   "cell_type": "code",
   "execution_count": null,
   "metadata": {},
   "outputs": [],
   "source": []
  },
  {
   "cell_type": "code",
   "execution_count": 8,
   "metadata": {},
   "outputs": [],
   "source": [
    "import random"
   ]
  },
  {
   "cell_type": "code",
   "execution_count": 10,
   "metadata": {},
   "outputs": [
    {
     "name": "stdout",
     "output_type": "stream",
     "text": [
      "neutral => кредит наличный в томск сбербанк\n",
      "neutral => опубликованный наконец новый список европейский санкция не оправдать пессимистичный ожидание указывать аналитик ук райффайзен капитал софа\n",
      "neutral => газпромбанк и россельхозбанк обратиться за государственный поддержка в свет введённый санкция об это писать газета laquo ведомость raqu\n",
      "neutral => алмаз можно снять любой сумма а сбер только определённый\n",
      "neutral => сбербанк россия расчёт кредит\n",
      "negative => новый система в бм двигаться по талон как бы в действие и как бы нет ! плюс консультант не мочь связать два слово !\n",
      "neutral => взять кредит на свадьба в мурманск сбербанк\n",
      "neutral => россельхозбанк провести в семинар для предприниматель\n",
      "neutral => активация кредитный карта альфа банк\n",
      "negative => анекдот из жизнь прийтись звонить в газпром банк и сообщать он что у ру поменяться реквизит а он не знать\n",
      "neutral => правительство отказаться от идея разделить россельхозбанк ( рсхб ) на коммерческий банк и институт развитие профильный ведомство который бы\n",
      "neutral => кредитный карта сбербанк как пользоваться\n",
      "negative => опять посетить этот ебанутый он даже документ нормально прочитать не мочь !\n",
      "neutral => сбербанк и втб поделить вкладчик по алфавит\n",
      "neutral => rt заявка на кредитный карта газпромбанк\n",
      "negative => ранний в альфа банк такой красивый девочка работать а сейчас забитый мышь\n",
      "neutral => банк москва возможнось получение кредит\n",
      "negative => сша ввести санкция против банк москва втб и россельхозбанк сообщить министерство финансы сша гражданин и компания сша запрещённый приоб\n",
      "neutral => банк москва выйти из капитал свой белорусский дочка банк москва минск\n",
      "neutral => банк сбербанк запустить новый продукт для частный клиент страхование банковский карта\n"
     ]
    }
   ],
   "source": [
    "for idx in random.choices(list(range(len(texts))), k=20):\n",
    "    print('{0} => {1}'.format(labels[idx], texts[idx]))"
   ]
  },
  {
   "cell_type": "code",
   "execution_count": 11,
   "metadata": {},
   "outputs": [],
   "source": [
    "positive_tweets = [texts[idx] for idx in range(len(texts)) if labels[idx] == 'positive']\n",
    "negative_tweets = [texts[idx] for idx in range(len(texts)) if labels[idx] == 'negative']"
   ]
  },
  {
   "cell_type": "code",
   "execution_count": 12,
   "metadata": {},
   "outputs": [
    {
     "name": "stdout",
     "output_type": "stream",
     "text": [
      "главный чтоб банк сбер и втб ! ! !\n",
      "самый выгодный автокредит в втб\n",
      "легко можно получить денежный кредит ы втб банка\n",
      "снижение процентный ставка по кредит на недвижимость сбербанк\n",
      "в наш сбербанк прийти американец и попросить сфоткаться с он у банкомат я ващий быть в шок и на фотка полюбома получиться смешной xd\n"
     ]
    }
   ],
   "source": [
    "for cur in positive_tweets[:5]: print(cur)"
   ]
  },
  {
   "cell_type": "code",
   "execution_count": 13,
   "metadata": {},
   "outputs": [
    {
     "name": "stdout",
     "output_type": "stream",
     "text": [
      "обязательно про сбербанк написать ! временами хлёсткий интернет магазин финт выкручивать )\n",
      "втб и сбер точно операция или запрет на кредит ?\n",
      "канада ввести санкция против газпромбанк вэба новатэк и российский оборонный компания\n",
      "rt если сбер и втб попасть под санкция быть жопа\n",
      "rt ввести санкция против оборонный и сырьевой компания и банк среди он в частность\n"
     ]
    }
   ],
   "source": [
    "for cur in negative_tweets[:5]: print(cur)"
   ]
  },
  {
   "cell_type": "code",
   "execution_count": 14,
   "metadata": {},
   "outputs": [],
   "source": [
    "from nltk import word_tokenize"
   ]
  },
  {
   "cell_type": "code",
   "execution_count": 15,
   "metadata": {},
   "outputs": [
    {
     "name": "stderr",
     "output_type": "stream",
     "text": [
      "[nltk_data] Downloading package punkt to\n",
      "[nltk_data]     C:\\Users\\PC\\AppData\\Roaming\\nltk_data...\n",
      "[nltk_data]   Package punkt is already up-to-date!\n"
     ]
    },
    {
     "data": {
      "text/plain": [
       "True"
      ]
     },
     "execution_count": 15,
     "metadata": {},
     "output_type": "execute_result"
    }
   ],
   "source": [
    "import nltk\n",
    "nltk.download('punkt')"
   ]
  },
  {
   "cell_type": "code",
   "execution_count": 16,
   "metadata": {},
   "outputs": [],
   "source": [
    "from sklearn.feature_extraction.text import CountVectorizer  # TfIdfVectorizer\n",
    "# https://scikit-learn.org/stable/modules/generated/sklearn.feature_extraction.text.TfidfVectorizer.html"
   ]
  },
  {
   "cell_type": "code",
   "execution_count": 17,
   "metadata": {},
   "outputs": [],
   "source": [
    "vectorizer = CountVectorizer(lowercase=True, tokenizer=word_tokenize)"
   ]
  },
  {
   "cell_type": "code",
   "execution_count": 18,
   "metadata": {},
   "outputs": [
    {
     "name": "stderr",
     "output_type": "stream",
     "text": [
      "C:\\Users\\PC\\anaconda3\\lib\\site-packages\\sklearn\\feature_extraction\\text.py:484: UserWarning: The parameter 'token_pattern' will not be used since 'tokenizer' is not None'\n",
      "  warnings.warn(\"The parameter 'token_pattern' will not be used\"\n"
     ]
    },
    {
     "data": {
      "text/plain": [
       "CountVectorizer(tokenizer=<function word_tokenize at 0x00000246E4C57700>)"
      ]
     },
     "execution_count": 18,
     "metadata": {},
     "output_type": "execute_result"
    }
   ],
   "source": [
    "vectorizer.fit(texts)"
   ]
  },
  {
   "cell_type": "code",
   "execution_count": 19,
   "metadata": {},
   "outputs": [
    {
     "name": "stdout",
     "output_type": "stream",
     "text": [
      "['!', '(', ')', '-', '8', ':', ';', '=', '?', 'a', 'abncapital', 'admitad', 'ag', 'agro', 'airlines', 'ajhvf', 'alfa', 'alfabank', 'alfaclick', 'aliexpress']\n"
     ]
    }
   ],
   "source": [
    "print(vectorizer.get_feature_names()[0:20])"
   ]
  },
  {
   "cell_type": "code",
   "execution_count": 20,
   "metadata": {},
   "outputs": [
    {
     "name": "stdout",
     "output_type": "stream",
     "text": [
      "6660\n"
     ]
    }
   ],
   "source": [
    "print(len(vectorizer.get_feature_names()))"
   ]
  },
  {
   "cell_type": "code",
   "execution_count": 21,
   "metadata": {},
   "outputs": [],
   "source": [
    "X = vectorizer.transform(texts)"
   ]
  },
  {
   "cell_type": "code",
   "execution_count": 22,
   "metadata": {},
   "outputs": [
    {
     "name": "stdout",
     "output_type": "stream",
     "text": [
      "<class 'scipy.sparse.csr.csr_matrix'>\n"
     ]
    }
   ],
   "source": [
    "print(type(X))"
   ]
  },
  {
   "cell_type": "code",
   "execution_count": 23,
   "metadata": {},
   "outputs": [
    {
     "name": "stdout",
     "output_type": "stream",
     "text": [
      "взять кредит тюмень альфа банк\n"
     ]
    }
   ],
   "source": [
    "print(texts[0])"
   ]
  },
  {
   "cell_type": "code",
   "execution_count": 24,
   "metadata": {},
   "outputs": [
    {
     "name": "stdout",
     "output_type": "stream",
     "text": [
      "  (0, 419)\t1\n",
      "  (0, 555)\t1\n",
      "  (0, 852)\t1\n",
      "  (0, 2494)\t1\n",
      "  (0, 5979)\t1\n"
     ]
    }
   ],
   "source": [
    "print(X[0])"
   ]
  },
  {
   "cell_type": "code",
   "execution_count": 25,
   "metadata": {},
   "outputs": [
    {
     "name": "stdout",
     "output_type": "stream",
     "text": [
      "хакамада\n"
     ]
    }
   ],
   "source": [
    "print(vectorizer.get_feature_names()[6321])"
   ]
  },
  {
   "cell_type": "code",
   "execution_count": 26,
   "metadata": {},
   "outputs": [
    {
     "name": "stdout",
     "output_type": "stream",
     "text": [
      "спецпрограмма\n"
     ]
    }
   ],
   "source": [
    "print(vectorizer.get_feature_names()[5555])"
   ]
  },
  {
   "cell_type": "code",
   "execution_count": 27,
   "metadata": {},
   "outputs": [
    {
     "name": "stdout",
     "output_type": "stream",
     "text": [
      "шаттерсток\n"
     ]
    }
   ],
   "source": [
    "print(vectorizer.get_feature_names()[6500])"
   ]
  },
  {
   "cell_type": "code",
   "execution_count": 28,
   "metadata": {},
   "outputs": [],
   "source": [
    "from sklearn.feature_extraction.text import TfidfTransformer"
   ]
  },
  {
   "cell_type": "code",
   "execution_count": 29,
   "metadata": {},
   "outputs": [],
   "source": [
    "transformer = TfidfTransformer().fit(X)"
   ]
  },
  {
   "cell_type": "code",
   "execution_count": 30,
   "metadata": {},
   "outputs": [],
   "source": [
    "X_transformed = transformer.transform(X)"
   ]
  },
  {
   "cell_type": "code",
   "execution_count": 31,
   "metadata": {},
   "outputs": [
    {
     "name": "stdout",
     "output_type": "stream",
     "text": [
      "  (0, 5979)\t0.7391351947070658\n",
      "  (0, 2494)\t0.22539383399193713\n",
      "  (0, 852)\t0.4219051594577849\n",
      "  (0, 555)\t0.26376023593941833\n",
      "  (0, 419)\t0.3940854703028856\n"
     ]
    }
   ],
   "source": [
    "print(X_transformed[0])"
   ]
  },
  {
   "cell_type": "code",
   "execution_count": 32,
   "metadata": {},
   "outputs": [
    {
     "name": "stdout",
     "output_type": "stream",
     "text": [
      "спецпрограмма\n"
     ]
    }
   ],
   "source": [
    "print(vectorizer.get_feature_names()[5555])"
   ]
  },
  {
   "cell_type": "code",
   "execution_count": 33,
   "metadata": {},
   "outputs": [
    {
     "name": "stdout",
     "output_type": "stream",
     "text": [
      "шаттерсток\n"
     ]
    }
   ],
   "source": [
    "print(vectorizer.get_feature_names()[6500])"
   ]
  },
  {
   "cell_type": "code",
   "execution_count": 34,
   "metadata": {},
   "outputs": [],
   "source": [
    "tokens_with_IDF = list(zip(vectorizer.get_feature_names(), transformer.idf_))"
   ]
  },
  {
   "cell_type": "code",
   "execution_count": 35,
   "metadata": {},
   "outputs": [
    {
     "name": "stdout",
     "output_type": "stream",
     "text": [
      "4.417620 => !\n",
      "4.805386 => (\n",
      "4.443938 => )\n",
      "8.355961 => -\n",
      "9.049108 => 8\n",
      "6.020586 => :\n",
      "8.068278 => ;\n",
      "8.201810 => =\n",
      "4.440610 => ?\n",
      "9.049108 => a\n",
      "9.454573 => abncapital\n",
      "9.454573 => admitad\n",
      "9.049108 => ag\n",
      "9.049108 => agro\n",
      "9.454573 => airlines\n",
      "9.454573 => ajhvf\n",
      "9.049108 => alfa\n",
      "8.355961 => alfabank\n",
      "9.049108 => alfaclick\n",
      "9.454573 => aliexpress\n"
     ]
    }
   ],
   "source": [
    "for feature, idf in tokens_with_IDF[0:20]: print('{0:.6f} => {1}'.format(idf, feature))"
   ]
  },
  {
   "cell_type": "code",
   "execution_count": 36,
   "metadata": {},
   "outputs": [],
   "source": [
    "sorted_tokens_with_IDF = sorted(tokens_with_IDF, key=lambda it: (-it[1], it[0]))"
   ]
  },
  {
   "cell_type": "code",
   "execution_count": 37,
   "metadata": {},
   "outputs": [
    {
     "name": "stdout",
     "output_type": "stream",
     "text": [
      "9.454573 => abncapital\n",
      "9.454573 => admitad\n",
      "9.454573 => airlines\n",
      "9.454573 => ajhvf\n",
      "9.454573 => aliexpress\n",
      "9.454573 => api\n",
      "9.454573 => app\n",
      "9.454573 => apps\n",
      "9.454573 => appstore\n",
      "9.454573 => autopaymts\n",
      "9.454573 => back\n",
      "9.454573 => bankvtb\n",
      "9.454573 => best\n",
      "9.454573 => biznews\n",
      "9.454573 => blackberry\n",
      "9.454573 => blatt\n",
      "9.454573 => bump\n",
      "9.454573 => camp\n",
      "9.454573 => cash\n",
      "9.454573 => cetelem\n"
     ]
    }
   ],
   "source": [
    "for feature, idf in sorted_tokens_with_IDF[0:20]: print('{0:.6f} => {1}'.format(idf, feature))"
   ]
  },
  {
   "cell_type": "code",
   "execution_count": 38,
   "metadata": {},
   "outputs": [],
   "source": [
    "from sklearn.feature_selection import SelectPercentile, chi2"
   ]
  },
  {
   "cell_type": "code",
   "execution_count": 39,
   "metadata": {},
   "outputs": [],
   "source": [
    "selector = SelectPercentile(chi2, percentile=20)"
   ]
  },
  {
   "cell_type": "code",
   "execution_count": 40,
   "metadata": {},
   "outputs": [
    {
     "data": {
      "text/plain": [
       "SelectPercentile(percentile=20,\n",
       "                 score_func=<function chi2 at 0x00000246F7D68A60>)"
      ]
     },
     "execution_count": 40,
     "metadata": {},
     "output_type": "execute_result"
    }
   ],
   "source": [
    "selector.fit(X_transformed, labels)"
   ]
  },
  {
   "cell_type": "code",
   "execution_count": 41,
   "metadata": {},
   "outputs": [],
   "source": [
    "selected_tokens_with_IDF = [tokens_with_IDF[idx] for idx in selector.get_support(indices=True)]"
   ]
  },
  {
   "cell_type": "code",
   "execution_count": 42,
   "metadata": {},
   "outputs": [
    {
     "name": "stdout",
     "output_type": "stream",
     "text": [
      "1332\n"
     ]
    }
   ],
   "source": [
    "print(len(selected_tokens_with_IDF))"
   ]
  },
  {
   "cell_type": "code",
   "execution_count": 43,
   "metadata": {},
   "outputs": [
    {
     "name": "stdout",
     "output_type": "stream",
     "text": [
      "4.417620 => !\n",
      "4.805386 => (\n",
      "4.443938 => )\n",
      "6.020586 => :\n",
      "8.201810 => =\n",
      "4.440610 => ?\n",
      "9.049108 => apple\n",
      "9.454573 => appstore\n",
      "8.761426 => awards\n",
      "8.538282 => boerse\n",
      "9.049108 => brkng\n",
      "9.049108 => cemitsvetic\n",
      "9.454573 => come\n",
      "9.454573 => euro\n",
      "7.056678 => finance\n",
      "7.439670 => fitch\n",
      "8.761426 => ft\n",
      "7.845135 => ftse\n",
      "7.151988 => global\n",
      "9.454573 => hsbc\n"
     ]
    }
   ],
   "source": [
    "for feature, idf in selected_tokens_with_IDF[0:20]: print('{0:.6f} => {1}'.format(idf, feature))"
   ]
  },
  {
   "cell_type": "code",
   "execution_count": 44,
   "metadata": {},
   "outputs": [],
   "source": [
    "selected_and_sorted_tokens_with_IDF = sorted(selected_tokens_with_IDF, key=lambda it: (-it[1], it[0]))"
   ]
  },
  {
   "cell_type": "code",
   "execution_count": 45,
   "metadata": {},
   "outputs": [
    {
     "name": "stdout",
     "output_type": "stream",
     "text": [
      "9.454573 => appstore\n",
      "9.454573 => come\n",
      "9.454573 => euro\n",
      "9.454573 => hsbc\n",
      "9.454573 => london\n",
      "9.454573 => moneynews\n",
      "9.454573 => n\n",
      "9.454573 => nalexandrowa\n",
      "9.454573 => play\n",
      "9.454573 => plc\n",
      "9.454573 => rdx\n",
      "9.454573 => softkey\n",
      "9.454573 => spo\n",
      "9.454573 => автолюбитель\n",
      "9.454573 => автоматический\n",
      "9.454573 => автопроверка\n",
      "9.454573 => адекватный\n",
      "9.454573 => азс\n",
      "9.454573 => ай\n",
      "9.454573 => аккредитовый\n"
     ]
    }
   ],
   "source": [
    "for feature, idf in selected_and_sorted_tokens_with_IDF[0:20]: print('{0:.6f} => {1}'.format(idf, feature))"
   ]
  },
  {
   "cell_type": "code",
   "execution_count": 46,
   "metadata": {},
   "outputs": [],
   "source": [
    "from sklearn.linear_model import LogisticRegression"
   ]
  },
  {
   "cell_type": "code",
   "execution_count": 47,
   "metadata": {},
   "outputs": [],
   "source": [
    "cls_Log = LogisticRegression(solver='liblinear', verbose=True)"
   ]
  },
  {
   "cell_type": "code",
   "execution_count": 48,
   "metadata": {},
   "outputs": [],
   "source": [
    "X_transformed_and_selected = selector.transform(X_transformed)"
   ]
  },
  {
   "cell_type": "code",
   "execution_count": 49,
   "metadata": {},
   "outputs": [
    {
     "name": "stdout",
     "output_type": "stream",
     "text": [
      "[LibLinear]"
     ]
    },
    {
     "data": {
      "text/plain": [
       "LogisticRegression(solver='liblinear', verbose=True)"
      ]
     },
     "execution_count": 49,
     "metadata": {},
     "output_type": "execute_result"
    }
   ],
   "source": [
    "cls_Log.fit(X_transformed_and_selected, labels)"
   ]
  },
  {
   "cell_type": "code",
   "execution_count": 50,
   "metadata": {},
   "outputs": [],
   "source": [
    "classes_list = list(cls_Log.classes_)"
   ]
  },
  {
   "cell_type": "code",
   "execution_count": 51,
   "metadata": {},
   "outputs": [
    {
     "name": "stdout",
     "output_type": "stream",
     "text": [
      "['negative', 'neutral', 'positive']\n"
     ]
    }
   ],
   "source": [
    "print(classes_list)"
   ]
  },
  {
   "cell_type": "code",
   "execution_count": 52,
   "metadata": {},
   "outputs": [],
   "source": [
    "texts_for_testing, labels_for_testing = load_sentirueval_2016('banks_test_etalon.xml')"
   ]
  },
  {
   "cell_type": "code",
   "execution_count": 55,
   "metadata": {},
   "outputs": [],
   "source": [
    "from sklearn.pipeline import Pipeline"
   ]
  },
  {
   "cell_type": "code",
   "execution_count": 56,
   "metadata": {},
   "outputs": [],
   "source": [
    "pipeline_for_se_Log = Pipeline(\n",
    "    [\n",
    "        ('vectorizer', vectorizer),\n",
    "        ('tfidf', transformer),\n",
    "        ('selector', selector),\n",
    "        ('final_classifier', cls_Log)\n",
    "    ]\n",
    ")"
   ]
  },
  {
   "cell_type": "code",
   "execution_count": 57,
   "metadata": {},
   "outputs": [],
   "source": [
    "from sklearn.metrics import roc_curve\n",
    "import numpy as np"
   ]
  },
  {
   "cell_type": "code",
   "execution_count": 58,
   "metadata": {},
   "outputs": [],
   "source": [
    "probabilities = pipeline_for_se_Log.predict_proba(texts_for_testing)"
   ]
  },
  {
   "cell_type": "code",
   "execution_count": 59,
   "metadata": {},
   "outputs": [],
   "source": [
    "y_true_positives = list(map(lambda it: 1 if it == 'positive' else 0, labels_for_testing))\n",
    "y_score_positives = probabilities[:, classes_list.index('positive')]\n",
    "fpr_positives, tpr_positives, _, = roc_curve(y_true_positives, y_score_positives)"
   ]
  },
  {
   "cell_type": "code",
   "execution_count": 60,
   "metadata": {},
   "outputs": [],
   "source": [
    "y_true_negatives = list(map(lambda it: 1 if it == 'negative' else 0, labels_for_testing))\n",
    "y_score_negatives = probabilities[:, classes_list.index('negative')]\n",
    "fpr_negatives, tpr_negatives, _, = roc_curve(y_true_negatives, y_score_negatives)"
   ]
  },
  {
   "cell_type": "code",
   "execution_count": 61,
   "metadata": {},
   "outputs": [],
   "source": [
    "y_true_neutrals = list(map(lambda it: 1 if it == 'neutral' else 0, labels_for_testing))\n",
    "y_score_neutrals = probabilities[:, classes_list.index('neutral')]\n",
    "fpr_neutrals, tpr_neutrals, _, = roc_curve(y_true_neutrals, y_score_neutrals)"
   ]
  },
  {
   "cell_type": "code",
   "execution_count": 62,
   "metadata": {},
   "outputs": [
    {
     "data": {
      "image/png": "[encoded data removed]",
      "text/plain": [
       "<Figure size 432x288 with 1 Axes>"
      ]
     },
     "metadata": {
      "needs_background": "light"
     },
     "output_type": "display_data"
    }
   ],
   "source": [
    "import matplotlib.pyplot as plt\n",
    "plt.figure(1)\n",
    "plt.plot([0, 1], [0, 1], 'k--')\n",
    "plt.plot(fpr_positives, tpr_positives, label='Positive Sentiment')\n",
    "plt.plot(fpr_negatives, tpr_negatives, label='Negative Sentiment')\n",
    "plt.plot(fpr_neutrals, tpr_neutrals, label='Neutral Sentiment')\n",
    "plt.xlabel('False positive rate')\n",
    "plt.ylabel('True positive rate')\n",
    "plt.title('ROC curve')\n",
    "plt.legend(loc='best')\n",
    "plt.show()"
   ]
  },
  {
   "cell_type": "code",
   "execution_count": 64,
   "metadata": {},
   "outputs": [
    {
     "name": "stdout",
     "output_type": "stream",
     "text": [
      "F1-micro = 0.710836\n",
      "F1-macro = 0.466278\n"
     ]
    }
   ],
   "source": [
    "from sklearn.metrics import f1_score\n",
    "predicted_labels = pipeline_for_se_Log.predict(texts_for_testing)\n",
    "print('F1-micro = {0:.6f}'.format(f1_score(labels_for_testing, predicted_labels, average='micro')))\n",
    "print('F1-macro = {0:.6f}'.format(f1_score(labels_for_testing, predicted_labels, average='macro')))"
   ]
  },
  {
   "cell_type": "code",
   "execution_count": 65,
   "metadata": {},
   "outputs": [
    {
     "name": "stdout",
     "output_type": "stream",
     "text": [
      "              precision    recall  f1-score   support\n",
      "\n",
      "    negative   0.542188  0.452412  0.493248       767\n",
      "     neutral   0.753497  0.890527  0.816301      2238\n",
      "    positive   0.535714  0.048701  0.089286       308\n",
      "\n",
      "    accuracy                       0.710836      3313\n",
      "   macro avg   0.610466  0.463880  0.466278      3313\n",
      "weighted avg   0.684330  0.710836  0.673922      3313\n",
      "\n"
     ]
    }
   ],
   "source": [
    "from sklearn.metrics import classification_report\n",
    "print(classification_report(labels_for_testing, predicted_labels, digits=6))"
   ]
  },
  {
   "cell_type": "code",
   "execution_count": 66,
   "metadata": {},
   "outputs": [],
   "source": [
    "#sklearn.linear_model.SGDClassifier"
   ]
  },
  {
   "cell_type": "code",
   "execution_count": 67,
   "metadata": {},
   "outputs": [],
   "source": [
    "from sklearn.linear_model import SGDClassifier"
   ]
  },
  {
   "cell_type": "code",
   "execution_count": 68,
   "metadata": {},
   "outputs": [],
   "source": [
    "cls_SGDC = SGDClassifier(loss='log')"
   ]
  },
  {
   "cell_type": "code",
   "execution_count": null,
   "metadata": {},
   "outputs": [],
   "source": []
  },
  {
   "cell_type": "code",
   "execution_count": 69,
   "metadata": {},
   "outputs": [],
   "source": [
    "X_transformed_and_selected = selector.transform(X_transformed)"
   ]
  },
  {
   "cell_type": "code",
   "execution_count": 70,
   "metadata": {},
   "outputs": [
    {
     "data": {
      "text/plain": [
       "SGDClassifier(loss='log')"
      ]
     },
     "execution_count": 70,
     "metadata": {},
     "output_type": "execute_result"
    }
   ],
   "source": [
    "cls_SGDC.fit(X_transformed_and_selected, labels)"
   ]
  },
  {
   "cell_type": "code",
   "execution_count": null,
   "metadata": {},
   "outputs": [],
   "source": []
  },
  {
   "cell_type": "code",
   "execution_count": 71,
   "metadata": {},
   "outputs": [],
   "source": [
    "classes_list = list(cls_SGDC.classes_)"
   ]
  },
  {
   "cell_type": "code",
   "execution_count": 118,
   "metadata": {},
   "outputs": [
    {
     "name": "stdout",
     "output_type": "stream",
     "text": [
      "['negative', 'neutral', 'positive']\n"
     ]
    }
   ],
   "source": [
    "print(classes_list)"
   ]
  },
  {
   "cell_type": "code",
   "execution_count": 119,
   "metadata": {},
   "outputs": [],
   "source": [
    "texts_for_testing, labels_for_testing = load_sentirueval_2016('banks_test_etalon.xml')"
   ]
  },
  {
   "cell_type": "code",
   "execution_count": 120,
   "metadata": {},
   "outputs": [],
   "source": [
    "from sklearn.pipeline import Pipeline"
   ]
  },
  {
   "cell_type": "code",
   "execution_count": 72,
   "metadata": {},
   "outputs": [],
   "source": [
    "pipeline_for_se_SGDC = Pipeline(\n",
    "    [\n",
    "        ('vectorizer', vectorizer),\n",
    "        ('tfidf', transformer),\n",
    "        ('selector', selector),\n",
    "        ('final_classifier', cls_SGDC)\n",
    "    ]\n",
    ")"
   ]
  },
  {
   "cell_type": "code",
   "execution_count": 73,
   "metadata": {},
   "outputs": [],
   "source": [
    "from sklearn.metrics import roc_curve\n",
    "import numpy as np"
   ]
  },
  {
   "cell_type": "code",
   "execution_count": 74,
   "metadata": {},
   "outputs": [],
   "source": [
    "probabilities = pipeline_for_se_SGDC.predict_proba(texts_for_testing)"
   ]
  },
  {
   "cell_type": "code",
   "execution_count": 75,
   "metadata": {},
   "outputs": [],
   "source": [
    "y_true_positives = list(map(lambda it: 1 if it == 'positive' else 0, labels_for_testing))\n",
    "y_score_positives = probabilities[:, classes_list.index('positive')]\n",
    "fpr_positives, tpr_positives, _, = roc_curve(y_true_positives, y_score_positives)"
   ]
  },
  {
   "cell_type": "code",
   "execution_count": 104,
   "metadata": {},
   "outputs": [],
   "source": [
    "y_true_negatives = list(map(lambda it: 1 if it == 'negative' else 0, labels_for_testing))\n",
    "y_score_negatives = probabilities[:, classes_list.index('negative')]\n",
    "fpr_negatives, tpr_negatives, _, = roc_curve(y_true_negatives, y_score_negatives)"
   ]
  },
  {
   "cell_type": "code",
   "execution_count": 105,
   "metadata": {},
   "outputs": [],
   "source": [
    "y_true_neutrals = list(map(lambda it: 1 if it == 'neutral' else 0, labels_for_testing))\n",
    "y_score_neutrals = probabilities[:, classes_list.index('neutral')]\n",
    "fpr_neutrals, tpr_neutrals, _, = roc_curve(y_true_neutrals, y_score_neutrals)"
   ]
  },
  {
   "cell_type": "code",
   "execution_count": 106,
   "metadata": {},
   "outputs": [
    {
     "data": {
      "image/png": "[encoded data removed]",
      "text/plain": [
       "<Figure size 432x288 with 1 Axes>"
      ]
     },
     "metadata": {
      "needs_background": "light"
     },
     "output_type": "display_data"
    }
   ],
   "source": [
    "import matplotlib.pyplot as plt\n",
    "plt.figure(1)\n",
    "plt.plot([0, 1], [0, 1], 'k--')\n",
    "plt.plot(fpr_positives, tpr_positives, label='Positive Sentiment')\n",
    "plt.plot(fpr_negatives, tpr_negatives, label='Negative Sentiment')\n",
    "plt.plot(fpr_neutrals, tpr_neutrals, label='Neutral Sentiment')\n",
    "plt.xlabel('False positive rate')\n",
    "plt.ylabel('True positive rate')\n",
    "plt.title('ROC curve')\n",
    "plt.legend(loc='best')\n",
    "plt.show()"
   ]
  },
  {
   "cell_type": "code",
   "execution_count": 107,
   "metadata": {},
   "outputs": [
    {
     "name": "stdout",
     "output_type": "stream",
     "text": [
      "F1-micro = 0.713251\n",
      "F1-macro = 0.472583\n"
     ]
    }
   ],
   "source": [
    "from sklearn.metrics import f1_score\n",
    "predicted_labels =pipeline_for_se_SGDC.predict(texts_for_testing)\n",
    "print('F1-micro = {0:.6f}'.format(f1_score(labels_for_testing, predicted_labels, average='micro')))\n",
    "print('F1-macro = {0:.6f}'.format(f1_score(labels_for_testing, predicted_labels, average='macro')))"
   ]
  },
  {
   "cell_type": "code",
   "execution_count": 108,
   "metadata": {},
   "outputs": [
    {
     "name": "stdout",
     "output_type": "stream",
     "text": [
      "              precision    recall  f1-score   support\n",
      "\n",
      "    negative   0.546440  0.460235  0.499646       767\n",
      "     neutral   0.756070  0.890527  0.817809      2238\n",
      "    positive   0.548387  0.055195  0.100295       308\n",
      "\n",
      "    accuracy                       0.713251      3313\n",
      "   macro avg   0.616966  0.468652  0.472583      3313\n",
      "weighted avg   0.688230  0.713251  0.677445      3313\n",
      "\n"
     ]
    }
   ],
   "source": [
    "from sklearn.metrics import classification_report\n",
    "print(classification_report(labels_for_testing, predicted_labels, digits=6))"
   ]
  },
  {
   "cell_type": "code",
   "execution_count": 109,
   "metadata": {},
   "outputs": [],
   "source": [
    "from sklearn.model_selection import GridSearchCV\n",
    "from sklearn.metrics import make_scorer\n",
    "f1_macro_scorer = make_scorer(f1_score, average='macro')\n",
    "cv_GridSearchCV = GridSearchCV(\n",
    "    estimator=LogisticRegression(solver='liblinear'),\n",
    "    param_grid={'C': [1e-2, 1e-1, 1, 1e+1, 1e+2, 1e+3], 'penalty': ['l1', 'l2']},\n",
    "    scoring=f1_macro_scorer,\n",
    "    n_jobs=-1\n",
    ")"
   ]
  },
  {
   "cell_type": "code",
   "execution_count": null,
   "metadata": {},
   "outputs": [],
   "source": []
  },
  {
   "cell_type": "code",
   "execution_count": 110,
   "metadata": {},
   "outputs": [
    {
     "data": {
      "text/plain": [
       "GridSearchCV(estimator=LogisticRegression(solver='liblinear'), n_jobs=-1,\n",
       "             param_grid={'C': [0.01, 0.1, 1, 10.0, 100.0, 1000.0],\n",
       "                         'penalty': ['l1', 'l2']},\n",
       "             scoring=make_scorer(f1_score, average=macro))"
      ]
     },
     "execution_count": 110,
     "metadata": {},
     "output_type": "execute_result"
    }
   ],
   "source": [
    "cv_GridSearchCV.fit(X_transformed_and_selected, labels)"
   ]
  },
  {
   "cell_type": "code",
   "execution_count": 111,
   "metadata": {},
   "outputs": [
    {
     "name": "stdout",
     "output_type": "stream",
     "text": [
      "{'C': 10.0, 'penalty': 'l1'}\n"
     ]
    }
   ],
   "source": [
    "print(cv_GridSearchCV.best_params_)"
   ]
  },
  {
   "cell_type": "code",
   "execution_count": 112,
   "metadata": {},
   "outputs": [
    {
     "name": "stdout",
     "output_type": "stream",
     "text": [
      "[LibLinear]"
     ]
    },
    {
     "data": {
      "text/plain": [
       "LogisticRegression(C=10.0, penalty='l1', solver='liblinear', verbose=True)"
      ]
     },
     "execution_count": 112,
     "metadata": {},
     "output_type": "execute_result"
    }
   ],
   "source": [
    "best_cls = LogisticRegression(solver='liblinear', verbose=True, C=10.0, penalty='l1')\n",
    "best_cls.fit(X_transformed_and_selected, labels)"
   ]
  },
  {
   "cell_type": "code",
   "execution_count": 113,
   "metadata": {},
   "outputs": [],
   "source": [
    "best_pipeline_for_se = Pipeline(\n",
    "    [\n",
    "        ('vectorizer', vectorizer),\n",
    "        ('tfidf', transformer),\n",
    "        ('selector', selector),\n",
    "        ('final_classifier', best_cls)\n",
    "    ]\n",
    ")"
   ]
  },
  {
   "cell_type": "code",
   "execution_count": 114,
   "metadata": {},
   "outputs": [],
   "source": [
    "probabilities = best_pipeline_for_se.predict_proba(texts_for_testing)\n",
    "\n",
    "y_true_positives = list(map(lambda it: 1 if it == 'positive' else 0, labels_for_testing))\n",
    "y_score_positives = probabilities[:, classes_list.index('positive')]\n",
    "fpr_positives, tpr_positives, _, = roc_curve(y_true_positives, y_score_positives)\n",
    "\n",
    "y_true_negatives = list(map(lambda it: 1 if it == 'negative' else 0, labels_for_testing))\n",
    "y_score_negatives = probabilities[:, classes_list.index('negative')]\n",
    "fpr_negatives, tpr_negatives, _, = roc_curve(y_true_negatives, y_score_negatives)\n",
    "\n",
    "y_true_neutrals = list(map(lambda it: 1 if it == 'neutral' else 0, labels_for_testing))\n",
    "y_score_neutrals = probabilities[:, classes_list.index('neutral')]\n",
    "fpr_neutrals, tpr_neutrals, _, = roc_curve(y_true_neutrals, y_score_neutrals)"
   ]
  },
  {
   "cell_type": "code",
   "execution_count": 115,
   "metadata": {},
   "outputs": [
    {
     "data": {
      "image/png": "[encoded data removed]",
      "text/plain": [
       "<Figure size 432x288 with 1 Axes>"
      ]
     },
     "metadata": {
      "needs_background": "light"
     },
     "output_type": "display_data"
    }
   ],
   "source": [
    "plt.figure(2)\n",
    "plt.plot([0, 1], [0, 1], 'k--')\n",
    "plt.plot(fpr_positives, tpr_positives, label='Positive Sentiment')\n",
    "plt.plot(fpr_negatives, tpr_negatives, label='Negative Sentiment')\n",
    "plt.plot(fpr_neutrals, tpr_neutrals, label='Neutral Sentiment')\n",
    "plt.xlabel('False positive rate')\n",
    "plt.ylabel('True positive rate')\n",
    "plt.title('ROC curve')\n",
    "plt.legend(loc='best')\n",
    "plt.show()"
   ]
  },
  {
   "cell_type": "code",
   "execution_count": 116,
   "metadata": {},
   "outputs": [
    {
     "name": "stdout",
     "output_type": "stream",
     "text": [
      "F1-micro = 0.676426\n",
      "F1-macro = 0.476153\n"
     ]
    }
   ],
   "source": [
    "predicted_labels = best_pipeline_for_se.predict(texts_for_testing)\n",
    "print('F1-micro = {0:.6f}'.format(f1_score(labels_for_testing, predicted_labels, average='micro')))\n",
    "print('F1-macro = {0:.6f}'.format(f1_score(labels_for_testing, predicted_labels, average='macro')))"
   ]
  },
  {
   "cell_type": "code",
   "execution_count": 117,
   "metadata": {},
   "outputs": [
    {
     "name": "stdout",
     "output_type": "stream",
     "text": [
      "              precision    recall  f1-score   support\n",
      "\n",
      "    negative   0.474839  0.479791  0.477302       767\n",
      "     neutral   0.757102  0.821716  0.788087      2238\n",
      "    positive   0.311927  0.110390  0.163070       308\n",
      "\n",
      "    accuracy                       0.676426      3313\n",
      "   macro avg   0.514622  0.470632  0.476153      3313\n",
      "weighted avg   0.650368  0.676426  0.658030      3313\n",
      "\n"
     ]
    }
   ],
   "source": [
    "print(classification_report(labels_for_testing, predicted_labels, digits=6))"
   ]
  },
  {
   "cell_type": "code",
   "execution_count": 143,
   "metadata": {},
   "outputs": [],
   "source": [
    "from sklearn.model_selection import RandomizedSearchCV\n",
    "from sklearn.metrics import make_scorer\n",
    "f1_macro_scorer = make_scorer(f1_score, average='macro')\n",
    "\n",
    "cv_RandomizedSearchCV = RandomizedSearchCV(  \n",
    "    estimator=LogisticRegression(solver='saga'),\n",
    "    param_distributions={'C': [1e-2, 1e-1, 1, 1e+1, 1e+2, 1e+3], 'penalty': ['l1', 'l2']},\n",
    "    scoring=f1_macro_scorer,\n",
    "    n_jobs=-1\n",
    ")"
   ]
  },
  {
   "cell_type": "code",
   "execution_count": 144,
   "metadata": {},
   "outputs": [
    {
     "name": "stderr",
     "output_type": "stream",
     "text": [
      "C:\\Users\\PC\\anaconda3\\lib\\site-packages\\sklearn\\linear_model\\_sag.py:329: ConvergenceWarning: The max_iter was reached which means the coef_ did not converge\n",
      "  warnings.warn(\"The max_iter was reached which means \"\n"
     ]
    },
    {
     "data": {
      "text/plain": [
       "RandomizedSearchCV(estimator=LogisticRegression(solver='saga'), n_jobs=-1,\n",
       "                   param_distributions={'C': [0.01, 0.1, 1, 10.0, 100.0,\n",
       "                                              1000.0],\n",
       "                                        'penalty': ['l1', 'l2']},\n",
       "                   scoring=make_scorer(f1_score, average=macro))"
      ]
     },
     "execution_count": 144,
     "metadata": {},
     "output_type": "execute_result"
    }
   ],
   "source": [
    "cv_RandomizedSearchCV.fit(X_transformed_and_selected, labels)"
   ]
  },
  {
   "cell_type": "code",
   "execution_count": 145,
   "metadata": {},
   "outputs": [
    {
     "name": "stdout",
     "output_type": "stream",
     "text": [
      "{'penalty': 'l2', 'C': 100.0}\n"
     ]
    }
   ],
   "source": [
    "print(cv_RandomizedSearchCV.best_params_)"
   ]
  },
  {
   "cell_type": "code",
   "execution_count": 146,
   "metadata": {},
   "outputs": [
    {
     "name": "stderr",
     "output_type": "stream",
     "text": [
      "[Parallel(n_jobs=1)]: Using backend SequentialBackend with 1 concurrent workers.\n"
     ]
    },
    {
     "name": "stdout",
     "output_type": "stream",
     "text": [
      "max_iter reached after 11 seconds\n"
     ]
    },
    {
     "name": "stderr",
     "output_type": "stream",
     "text": [
      "C:\\Users\\PC\\anaconda3\\lib\\site-packages\\sklearn\\linear_model\\_sag.py:329: ConvergenceWarning: The max_iter was reached which means the coef_ did not converge\n",
      "  warnings.warn(\"The max_iter was reached which means \"\n",
      "[Parallel(n_jobs=1)]: Done   1 out of   1 | elapsed:   10.9s finished\n"
     ]
    },
    {
     "data": {
      "text/plain": [
       "LogisticRegression(C=10.0, max_iter=200, penalty='l1', random_state=0,\n",
       "                   solver='saga', verbose=True)"
      ]
     },
     "execution_count": 146,
     "metadata": {},
     "output_type": "execute_result"
    }
   ],
   "source": [
    "#logistic = LogisticRegression(solver='saga', tol=1e-2, max_iter=200, random_state=0)\n",
    "#best_cls_Random = LogisticRegression(solver='liblinear', verbose=True, C=10.0, penalty='l1')\n",
    "best_cls_Random = LogisticRegression(solver='saga', verbose=True, C=10.0, penalty='l1', max_iter=200, random_state=0)\n",
    "best_cls_Random.fit(X_transformed_and_selected, labels)"
   ]
  },
  {
   "cell_type": "code",
   "execution_count": 148,
   "metadata": {},
   "outputs": [],
   "source": [
    "best_pipeline_for_se_Random = Pipeline(\n",
    "    [\n",
    "        ('vectorizer', vectorizer),\n",
    "        ('tfidf', transformer),\n",
    "        ('selector', selector),\n",
    "        ('final_classifier', best_cls_Random)\n",
    "    ]\n",
    ")"
   ]
  },
  {
   "cell_type": "code",
   "execution_count": 149,
   "metadata": {},
   "outputs": [],
   "source": [
    "probabilities = best_pipeline_for_se_Random.predict_proba(texts_for_testing)\n",
    "\n",
    "y_true_positives = list(map(lambda it: 1 if it == 'positive' else 0, labels_for_testing))\n",
    "y_score_positives = probabilities[:, classes_list.index('positive')]\n",
    "fpr_positives, tpr_positives, _, = roc_curve(y_true_positives, y_score_positives)\n",
    "\n",
    "y_true_negatives = list(map(lambda it: 1 if it == 'negative' else 0, labels_for_testing))\n",
    "y_score_negatives = probabilities[:, classes_list.index('negative')]\n",
    "fpr_negatives, tpr_negatives, _, = roc_curve(y_true_negatives, y_score_negatives)\n",
    "\n",
    "y_true_neutrals = list(map(lambda it: 1 if it == 'neutral' else 0, labels_for_testing))\n",
    "y_score_neutrals = probabilities[:, classes_list.index('neutral')]\n",
    "fpr_neutrals, tpr_neutrals, _, = roc_curve(y_true_neutrals, y_score_neutrals)"
   ]
  },
  {
   "cell_type": "code",
   "execution_count": 150,
   "metadata": {},
   "outputs": [
    {
     "data": {
      "image/png": "[encoded data removed]",
      "text/plain": [
       "<Figure size 432x288 with 1 Axes>"
      ]
     },
     "metadata": {
      "needs_background": "light"
     },
     "output_type": "display_data"
    }
   ],
   "source": [
    "plt.figure(2)\n",
    "plt.plot([0, 1], [0, 1], 'k--')\n",
    "plt.plot(fpr_positives, tpr_positives, label='Positive Sentiment')\n",
    "plt.plot(fpr_negatives, tpr_negatives, label='Negative Sentiment')\n",
    "plt.plot(fpr_neutrals, tpr_neutrals, label='Neutral Sentiment')\n",
    "plt.xlabel('False positive rate')\n",
    "plt.ylabel('True positive rate')\n",
    "plt.title('ROC curve')\n",
    "plt.legend(loc='best')\n",
    "plt.show()"
   ]
  },
  {
   "cell_type": "code",
   "execution_count": 151,
   "metadata": {},
   "outputs": [
    {
     "name": "stdout",
     "output_type": "stream",
     "text": [
      "F1-micro = 0.649562\n",
      "F1-macro = 0.464651\n"
     ]
    }
   ],
   "source": [
    "predicted_labels = best_pipeline_for_se_Random.predict(texts_for_testing)\n",
    "print('F1-micro = {0:.6f}'.format(f1_score(labels_for_testing, predicted_labels, average='micro')))\n",
    "print('F1-macro = {0:.6f}'.format(f1_score(labels_for_testing, predicted_labels, average='macro')))"
   ]
  },
  {
   "cell_type": "code",
   "execution_count": 139,
   "metadata": {},
   "outputs": [
    {
     "name": "stdout",
     "output_type": "stream",
     "text": [
      "              precision    recall  f1-score   support\n",
      "\n",
      "    negative   0.522696  0.495437  0.508701       767\n",
      "     neutral   0.762372  0.867292  0.811455      2238\n",
      "    positive   0.550000  0.071429  0.126437       308\n",
      "\n",
      "    accuracy                       0.707214      3313\n",
      "   macro avg   0.611689  0.478053  0.482198      3313\n",
      "weighted avg   0.687141  0.707214  0.677680      3313\n",
      "\n"
     ]
    }
   ],
   "source": [
    "print(classification_report(labels_for_testing, predicted_labels, digits=6))"
   ]
  },
  {
   "cell_type": "code",
   "execution_count": null,
   "metadata": {},
   "outputs": [],
   "source": []
  }
 ],
 "metadata": {
  "kernelspec": {
   "display_name": "Python 3",
   "language": "python",
   "name": "python3"
  },
  "language_info": {
   "codemirror_mode": {
    "name": "ipython",
    "version": 3
   },
   "file_extension": ".py",
   "mimetype": "text/x-python",
   "name": "python",
   "nbconvert_exporter": "python",
   "pygments_lexer": "ipython3",
   "version": "3.8.3"
  }
 },
 "nbformat": 4,
 "nbformat_minor": 2
}
