{
 "cells": [
  {
   "cell_type": "code",
   "execution_count": 1,
   "metadata": {},
   "outputs": [],
   "source": [
    "from lxml import etree"
   ]
  },
  {
   "cell_type": "code",
   "execution_count": 2,
   "metadata": {},
   "outputs": [],
   "source": [
    "from typing import List, Tuple"
   ]
  },
  {
   "cell_type": "code",
   "execution_count": 3,
   "metadata": {},
   "outputs": [],
   "source": [
    "def load_sentirueval_2016(file_name: str) -> Tuple[List[str], List[str]]:\n",
    "    texts = []\n",
    "    labels = []\n",
    "    with open(file_name, mode='rb') as fp:\n",
    "        xml_data = fp.read()\n",
    "    root = etree.fromstring(xml_data)\n",
    "    for database in root.getchildren():\n",
    "        if database.tag == 'database':\n",
    "            for table in database.getchildren():\n",
    "                if table.tag != 'table':\n",
    "                    continue\n",
    "                new_text = None\n",
    "                new_label = None\n",
    "                for column in table.getchildren():\n",
    "                    if column.get('name') == 'text':\n",
    "                        new_text = str(column.text).strip()\n",
    "                        if new_label is not None:\n",
    "                            break\n",
    "                    elif column.get('name') not in {'id', 'twitid', 'date'}:\n",
    "                        if new_label is None:\n",
    "                            label_candidate = str(column.text).strip()\n",
    "                            if label_candidate in {'0', '1', '-1'}:\n",
    "                                new_label = 'negative' if label_candidate == '-1' else \\\n",
    "                                    ('positive' if label_candidate == '1' else 'neutral')\n",
    "                                if new_text is not None:\n",
    "                                    break\n",
    "                if (new_text is None) or (new_label is None):\n",
    "                    raise ValueError('File `{0}` contains some error!'.format(file_name))\n",
    "                texts.append(new_text)\n",
    "                labels.append(new_label)\n",
    "            break\n",
    "    return texts, labels"
   ]
  },
  {
   "cell_type": "code",
   "execution_count": 4,
   "metadata": {},
   "outputs": [],
   "source": [
    "texts, labels = load_sentirueval_2016('bank_train_2016.xml')"
   ]
  },
  {
   "cell_type": "code",
   "execution_count": 5,
   "metadata": {},
   "outputs": [
    {
     "name": "stdout",
     "output_type": "stream",
     "text": [
      "Number of texts is 9392, number of labels is 9392.\n"
     ]
    }
   ],
   "source": [
    "print('Number of texts is {0}, number of labels is {1}.'.format(len(texts), len(labels)))"
   ]
  },
  {
   "cell_type": "code",
   "execution_count": 6,
   "metadata": {},
   "outputs": [],
   "source": [
    "import random"
   ]
  },
  {
   "cell_type": "code",
   "execution_count": 7,
   "metadata": {},
   "outputs": [
    {
     "name": "stdout",
     "output_type": "stream",
     "text": [
      "neutral => RT @roreBarkan: GM продал Opel \"Магне\" и Сбербанку #FF_RU\n",
      "neutral => Кредитный калькулятор россельхозбанк чита http://t.co/EqtmPota1G\n",
      "neutral => Состояние кредита в банке втб 24 http://t.co/EAx00q1xSl\n",
      "negative => ЕС может внести в санкционный список Сбербанк и ВТБ http://t.co/q7NHBJbL3Y\n",
      "positive => @alfa_bank круто, спасибо!\n",
      "neutral => Объем портфеля по кредитным картам Сбербанка в Сургуте превысил 1 млрд. рублей http://t.co/9FozBhrTU1\n",
      "neutral => кредит ипотека втб 24 http://t.co/d84eseSUuc\n",
      "negative => США ввели санкции против ВТБ, Банка Москвы и Россельхозбанка http://t.co/cxAIY1kHsk\n",
      "positive => Дальневосточный Сбербанк способствует развитию птицеводства в Магаданской области #Владивосток\n",
      "http://t.co/AerXopfTxP http://t.co/K7ke48pPCL\n",
      "negative => @SOshepkov18 Через сбер не получилось, три копейки яндексом ... удачи!\n",
      "negative => США ввели санкции против Банка Москвы, ВТБ и Россельхозбанка\n",
      "neutral => альфа банк ставрополь телефон http://t.co/6CHmLgE5BE\n",
      "neutral => Банк ВТБ открыл кредит Приволжской лизинговой компании в сумме 254,5 млн рублей на 5 ле... http://t.co/7osllCmm7t http://t.co/nqc7ZB7Los\n",
      "neutral => график погашения кредита в сбербанке http://t.co/b24apXrHV6\n",
      "positive => @alfa_bank круто, спасибо!\n",
      "neutral => http://t.co/lxzmhwi2cj Взять кредит в втб 24 онлайн\n",
      "positive => Журнал Global Finance признал Сбербанк Онлайн: По результатам проведенного исследования журнал Global Finance ... http://t.co/REkPVmc4NU\n",
      "positive => Сбербанк России обновил веб-сайт http://t.co/ED3ll5aV2K\n",
      "negative => RT @kowalsker: 20 дней назад я обратился с вопросом вот к этим ребятам: @sberbank. Ребята не ответили. Банкоматы не заработали. WTF? http:/…\n",
      "neutral => Документы кредит бизнес сбербанк http://t.co/75FAeNaLxN\n"
     ]
    }
   ],
   "source": [
    "for idx in random.choices(list(range(len(texts))), k=20):\n",
    "    print('{0} => {1}'.format(labels[idx], texts[idx]))"
   ]
  },
  {
   "cell_type": "code",
   "execution_count": 8,
   "metadata": {},
   "outputs": [],
   "source": [
    "positive_tweets = [texts[idx] for idx in range(len(texts)) if labels[idx] == 'positive']\n",
    "negative_tweets = [texts[idx] for idx in range(len(texts)) if labels[idx] == 'negative']"
   ]
  },
  {
   "cell_type": "code",
   "execution_count": 9,
   "metadata": {},
   "outputs": [
    {
     "name": "stdout",
     "output_type": "stream",
     "text": [
      "@sawik_shuster @YevhenS Главное чтоб банки СБЕР и ВТБ!!!\n",
      "Самый выгодный автокредит в втб 24 http://t.co/CDJ5P40x7g\n",
      "http://t.co/h6r6GdBe4H Легко можно получить денежный кредит ы втб 24 банке\n",
      "Снижение процентной ставки по кредиту на недвижимость сбербанк http://t.co/MredO898wK\n",
      "В наш сбербанк пришел американец и попросил сфоткаться с ним у банкомата ;D \n",
      "я ваще была в шоке и на фотке полюбому получилась смешная xD\n"
     ]
    }
   ],
   "source": [
    "for cur in positive_tweets[:5]: print(cur)"
   ]
  },
  {
   "cell_type": "code",
   "execution_count": 10,
   "metadata": {},
   "outputs": [
    {
     "name": "stdout",
     "output_type": "stream",
     "text": [
      "@ShtirliZ_ @Zhukova_olga @winzard @tereshenkov обязательно про сбербанк напишите! Временами похлеще интернет магазинов финты выкручивает)\n",
      "@Umka_75 @Alfarius2012 @igor_sechin втб и сбер точно. вопрос-блокировка операций или запрет на кредиты?\n",
      "Канада ввела санкции против Газпромбанка, ВЭБа, Новатэка и российских оборонных компаний\n",
      "RT @letokot: Если Сбер и ВТБ попали под санкции, будет жопа\n",
      "RT @360_tv_ru: #Канада ввела санкции против 10 оборонных и сырьевых компаний и банков #РФ. Среди них, в частности, \"#Газпромбанк\", \"#Внешэк…\n"
     ]
    }
   ],
   "source": [
    "for cur in negative_tweets[:5]: print(cur)"
   ]
  },
  {
   "cell_type": "code",
   "execution_count": 11,
   "metadata": {},
   "outputs": [],
   "source": [
    "from nltk import word_tokenize"
   ]
  },
  {
   "cell_type": "code",
   "execution_count": 17,
   "metadata": {},
   "outputs": [
    {
     "name": "stderr",
     "output_type": "stream",
     "text": [
      "[nltk_data] Downloading package punkt to /home/daniil/nltk_data...\n",
      "[nltk_data]   Unzipping tokenizers/punkt.zip.\n"
     ]
    },
    {
     "data": {
      "text/plain": [
       "True"
      ]
     },
     "execution_count": 17,
     "metadata": {},
     "output_type": "execute_result"
    }
   ],
   "source": [
    "import nltk\n",
    "nltk.download('punkt')"
   ]
  },
  {
   "cell_type": "code",
   "execution_count": 14,
   "metadata": {},
   "outputs": [],
   "source": [
    "from sklearn.feature_extraction.text import CountVectorizer  # TfIdfVectorizer\n",
    "# https://scikit-learn.org/stable/modules/generated/sklearn.feature_extraction.text.TfidfVectorizer.html"
   ]
  },
  {
   "cell_type": "code",
   "execution_count": 15,
   "metadata": {},
   "outputs": [],
   "source": [
    "vectorizer = CountVectorizer(lowercase=True, tokenizer=word_tokenize)"
   ]
  },
  {
   "cell_type": "code",
   "execution_count": 18,
   "metadata": {},
   "outputs": [
    {
     "data": {
      "text/plain": [
       "CountVectorizer(tokenizer=<function word_tokenize at 0x7fa9c1871ee0>)"
      ]
     },
     "execution_count": 18,
     "metadata": {},
     "output_type": "execute_result"
    }
   ],
   "source": [
    "vectorizer.fit(texts)"
   ]
  },
  {
   "cell_type": "code",
   "execution_count": 19,
   "metadata": {},
   "outputs": [
    {
     "name": "stdout",
     "output_type": "stream",
     "text": [
      "['!', '#', '$', '%', '&', \"''\", '(', ')', '*', '+', '+3,49', '+300', '+5тыс', '+74955102933', '+в', ',', '-', '--', '-4.8', '-5']\n"
     ]
    }
   ],
   "source": [
    "print(vectorizer.get_feature_names()[0:20])"
   ]
  },
  {
   "cell_type": "code",
   "execution_count": 20,
   "metadata": {},
   "outputs": [
    {
     "name": "stdout",
     "output_type": "stream",
     "text": [
      "20192\n"
     ]
    }
   ],
   "source": [
    "print(len(vectorizer.get_feature_names()))"
   ]
  },
  {
   "cell_type": "code",
   "execution_count": 21,
   "metadata": {},
   "outputs": [],
   "source": [
    "X = vectorizer.transform(texts)"
   ]
  },
  {
   "cell_type": "code",
   "execution_count": 22,
   "metadata": {},
   "outputs": [
    {
     "name": "stdout",
     "output_type": "stream",
     "text": [
      "<class 'scipy.sparse.csr.csr_matrix'>\n"
     ]
    }
   ],
   "source": [
    "print(type(X))"
   ]
  },
  {
   "cell_type": "code",
   "execution_count": 23,
   "metadata": {},
   "outputs": [
    {
     "name": "stdout",
     "output_type": "stream",
     "text": [
      "http://t.co/YEVHuvVGA1 Взять кредит тюмень альфа банк\n"
     ]
    }
   ],
   "source": [
    "print(texts[0])"
   ]
  },
  {
   "cell_type": "code",
   "execution_count": 24,
   "metadata": {},
   "outputs": [
    {
     "name": "stdout",
     "output_type": "stream",
     "text": [
      "  (0, 6318)\t1\n",
      "  (0, 7196)\t1\n",
      "  (0, 7773)\t1\n",
      "  (0, 9092)\t1\n",
      "  (0, 9293)\t1\n",
      "  (0, 9861)\t1\n",
      "  (0, 12787)\t1\n",
      "  (0, 19011)\t1\n"
     ]
    }
   ],
   "source": [
    "print(X[0])"
   ]
  },
  {
   "cell_type": "code",
   "execution_count": 25,
   "metadata": {},
   "outputs": [
    {
     "name": "stdout",
     "output_type": "stream",
     "text": [
      "//t.co/yfqcav48qj\n"
     ]
    }
   ],
   "source": [
    "print(vectorizer.get_feature_names()[6321])"
   ]
  },
  {
   "cell_type": "code",
   "execution_count": 26,
   "metadata": {},
   "outputs": [
    {
     "name": "stdout",
     "output_type": "stream",
     "text": [
      "видать\n"
     ]
    }
   ],
   "source": [
    "print(vectorizer.get_feature_names()[9866])"
   ]
  },
  {
   "cell_type": "code",
   "execution_count": 27,
   "metadata": {},
   "outputs": [
    {
     "name": "stdout",
     "output_type": "stream",
     "text": [
      "уверил\n"
     ]
    }
   ],
   "source": [
    "print(vectorizer.get_feature_names()[19056])"
   ]
  },
  {
   "cell_type": "code",
   "execution_count": 28,
   "metadata": {},
   "outputs": [],
   "source": [
    "from sklearn.feature_extraction.text import TfidfTransformer"
   ]
  },
  {
   "cell_type": "code",
   "execution_count": 29,
   "metadata": {},
   "outputs": [],
   "source": [
    "transformer = TfidfTransformer().fit(X)"
   ]
  },
  {
   "cell_type": "code",
   "execution_count": 30,
   "metadata": {},
   "outputs": [],
   "source": [
    "X_transformed = transformer.transform(X)"
   ]
  },
  {
   "cell_type": "code",
   "execution_count": 31,
   "metadata": {},
   "outputs": [
    {
     "name": "stdout",
     "output_type": "stream",
     "text": [
      "  (0, 19011)\t0.5196767551267244\n",
      "  (0, 12787)\t0.17477128797745156\n",
      "  (0, 9861)\t0.2815132193133801\n",
      "  (0, 9293)\t0.20528209436889633\n",
      "  (0, 9092)\t0.26133550987375115\n",
      "  (0, 7773)\t0.10105340406350267\n",
      "  (0, 7196)\t0.09241786572867976\n",
      "  (0, 6318)\t0.7006793382592054\n"
     ]
    }
   ],
   "source": [
    "print(X_transformed[0])"
   ]
  },
  {
   "cell_type": "code",
   "execution_count": 32,
   "metadata": {},
   "outputs": [
    {
     "name": "stdout",
     "output_type": "stream",
     "text": [
      "уверил\n"
     ]
    }
   ],
   "source": [
    "print(vectorizer.get_feature_names()[19056])"
   ]
  },
  {
   "cell_type": "code",
   "execution_count": 33,
   "metadata": {},
   "outputs": [
    {
     "name": "stdout",
     "output_type": "stream",
     "text": [
      "=\n"
     ]
    }
   ],
   "source": [
    "print(vectorizer.get_feature_names()[7199])"
   ]
  },
  {
   "cell_type": "code",
   "execution_count": 34,
   "metadata": {},
   "outputs": [],
   "source": [
    "tokens_with_IDF = list(zip(vectorizer.get_feature_names(), transformer.idf_))"
   ]
  },
  {
   "cell_type": "code",
   "execution_count": 35,
   "metadata": {},
   "outputs": [
    {
     "name": "stdout",
     "output_type": "stream",
     "text": [
      "4.417620 => !\n",
      "3.144655 => #\n",
      "6.276519 => $\n",
      "5.636861 => %\n",
      "5.647910 => &\n",
      "4.134005 => ''\n",
      "4.805386 => (\n",
      "4.443938 => )\n",
      "8.201810 => *\n",
      "9.049108 => +\n",
      "9.454573 => +3,49\n",
      "9.454573 => +300\n",
      "9.454573 => +5тыс\n",
      "9.454573 => +74955102933\n",
      "9.454573 => +в\n",
      "2.753227 => ,\n",
      "4.420872 => -\n",
      "8.761426 => --\n",
      "9.454573 => -4.8\n",
      "9.454573 => -5\n"
     ]
    }
   ],
   "source": [
    "for feature, idf in tokens_with_IDF[0:20]: print('{0:.6f} => {1}'.format(idf, feature))"
   ]
  },
  {
   "cell_type": "code",
   "execution_count": 36,
   "metadata": {},
   "outputs": [],
   "source": [
    "sorted_tokens_with_IDF = sorted(tokens_with_IDF, key=lambda it: (-it[1], it[0]))"
   ]
  },
  {
   "cell_type": "code",
   "execution_count": 37,
   "metadata": {},
   "outputs": [
    {
     "name": "stdout",
     "output_type": "stream",
     "text": [
      "9.454573 => +3,49\n",
      "9.454573 => +300\n",
      "9.454573 => +5тыс\n",
      "9.454573 => +74955102933\n",
      "9.454573 => +в\n",
      "9.454573 => -4.8\n",
      "9.454573 => -5\n",
      "9.454573 => -6.4\n",
      "9.454573 => -а\n",
      "9.454573 => -круто\n",
      "9.454573 => -осуществление\n",
      "9.454573 => -подключение\n",
      "9.454573 => -привлечение\n",
      "9.454573 => -разменяйте\n",
      "9.454573 => -россельхозбанка\n",
      "9.454573 => -сами\n",
      "9.454573 => -сервис\n",
      "9.454573 => -сын\n",
      "9.454573 => -то\n",
      "9.454573 => -филиал\n"
     ]
    }
   ],
   "source": [
    "for feature, idf in sorted_tokens_with_IDF[0:20]: print('{0:.6f} => {1}'.format(idf, feature))"
   ]
  },
  {
   "cell_type": "code",
   "execution_count": 38,
   "metadata": {},
   "outputs": [],
   "source": [
    "from sklearn.feature_selection import SelectPercentile, chi2"
   ]
  },
  {
   "cell_type": "code",
   "execution_count": 39,
   "metadata": {},
   "outputs": [],
   "source": [
    "selector = SelectPercentile(chi2, percentile=20)"
   ]
  },
  {
   "cell_type": "code",
   "execution_count": 40,
   "metadata": {},
   "outputs": [
    {
     "data": {
      "text/plain": [
       "SelectPercentile(percentile=20, score_func=<function chi2 at 0x7fa9c02dca60>)"
      ]
     },
     "execution_count": 40,
     "metadata": {},
     "output_type": "execute_result"
    }
   ],
   "source": [
    "selector.fit(X_transformed, labels)"
   ]
  },
  {
   "cell_type": "code",
   "execution_count": 41,
   "metadata": {},
   "outputs": [],
   "source": [
    "selected_tokens_with_IDF = [tokens_with_IDF[idx] for idx in selector.get_support(indices=True)]"
   ]
  },
  {
   "cell_type": "code",
   "execution_count": 42,
   "metadata": {},
   "outputs": [
    {
     "name": "stdout",
     "output_type": "stream",
     "text": [
      "4039\n"
     ]
    }
   ],
   "source": [
    "print(len(selected_tokens_with_IDF))"
   ]
  },
  {
   "cell_type": "code",
   "execution_count": 43,
   "metadata": {},
   "outputs": [
    {
     "name": "stdout",
     "output_type": "stream",
     "text": [
      "4.417620 => !\n",
      "3.144655 => #\n",
      "5.636861 => %\n",
      "4.134005 => ''\n",
      "4.805386 => (\n",
      "4.443938 => )\n",
      "8.201810 => *\n",
      "9.049108 => +\n",
      "9.454573 => +5тыс\n",
      "2.753227 => ,\n",
      "4.420872 => -\n",
      "9.454573 => -россельхозбанка\n",
      "3.189272 => .\n",
      "5.465589 => ..\n",
      "3.819783 => ...\n",
      "7.103198 => ....\n",
      "9.454573 => ._\n",
      "6.070183 => /\n",
      "9.454573 => //t.co/01ftjc0bur\n",
      "9.454573 => //t.co/0gfmj3s0gi\n"
     ]
    }
   ],
   "source": [
    "for feature, idf in selected_tokens_with_IDF[0:20]: print('{0:.6f} => {1}'.format(idf, feature))"
   ]
  },
  {
   "cell_type": "code",
   "execution_count": 44,
   "metadata": {},
   "outputs": [],
   "source": [
    "selected_and_sorted_tokens_with_IDF = sorted(selected_tokens_with_IDF, key=lambda it: (-it[1], it[0]))"
   ]
  },
  {
   "cell_type": "code",
   "execution_count": 45,
   "metadata": {},
   "outputs": [
    {
     "name": "stdout",
     "output_type": "stream",
     "text": [
      "9.454573 => +5тыс\n",
      "9.454573 => -россельхозбанка\n",
      "9.454573 => ._\n",
      "9.454573 => //t.co/01ftjc0bur\n",
      "9.454573 => //t.co/0gfmj3s0gi\n",
      "9.454573 => //t.co/0i4pf81ksd\n",
      "9.454573 => //t.co/0jzv0jq959\n",
      "9.454573 => //t.co/0lt5jdmk9l\n",
      "9.454573 => //t.co/0s03a0v7po\n",
      "9.454573 => //t.co/0ttwpnjnef\n",
      "9.454573 => //t.co/0vpcvumoe8\n",
      "9.454573 => //t.co/0wziwezr91\n",
      "9.454573 => //t.co/0y05qjok2q\n",
      "9.454573 => //t.co/1aa3jpbxqh\n",
      "9.454573 => //t.co/1cjshtzrda\n",
      "9.454573 => //t.co/1d3bb71qbt\n",
      "9.454573 => //t.co/1eodyxqq0a\n",
      "9.454573 => //t.co/1fxzerzsps\n",
      "9.454573 => //t.co/1kiwdyic6t\n",
      "9.454573 => //t.co/1mymy2lxfu\n"
     ]
    }
   ],
   "source": [
    "for feature, idf in selected_and_sorted_tokens_with_IDF[0:20]: print('{0:.6f} => {1}'.format(idf, feature))"
   ]
  },
  {
   "cell_type": "code",
   "execution_count": 73,
   "metadata": {},
   "outputs": [],
   "source": [
    "from sklearn.linear_model import LogisticRegression"
   ]
  },
  {
   "cell_type": "code",
   "execution_count": 74,
   "metadata": {},
   "outputs": [],
   "source": [
    "cls = LogisticRegression(solver='liblinear', verbose=True)"
   ]
  },
  {
   "cell_type": "code",
   "execution_count": null,
   "metadata": {},
   "outputs": [],
   "source": []
  },
  {
   "cell_type": "code",
   "execution_count": 90,
   "metadata": {},
   "outputs": [],
   "source": [
    "from sklearn.linear_model import SGDClassifier"
   ]
  },
  {
   "cell_type": "code",
   "execution_count": 91,
   "metadata": {},
   "outputs": [],
   "source": [
    "cls = SGDClassifier(loss='log')"
   ]
  },
  {
   "cell_type": "code",
   "execution_count": null,
   "metadata": {},
   "outputs": [],
   "source": []
  },
  {
   "cell_type": "code",
   "execution_count": 92,
   "metadata": {},
   "outputs": [],
   "source": [
    "X_transformed_and_selected = selector.transform(X_transformed)"
   ]
  },
  {
   "cell_type": "code",
   "execution_count": 93,
   "metadata": {},
   "outputs": [
    {
     "data": {
      "text/plain": [
       "SGDClassifier(loss='log')"
      ]
     },
     "execution_count": 93,
     "metadata": {},
     "output_type": "execute_result"
    }
   ],
   "source": [
    "cls.fit(X_transformed_and_selected, labels)"
   ]
  },
  {
   "cell_type": "code",
   "execution_count": null,
   "metadata": {},
   "outputs": [],
   "source": []
  },
  {
   "cell_type": "code",
   "execution_count": 94,
   "metadata": {},
   "outputs": [],
   "source": [
    "classes_list = list(cls.classes_)"
   ]
  },
  {
   "cell_type": "code",
   "execution_count": 95,
   "metadata": {},
   "outputs": [
    {
     "name": "stdout",
     "output_type": "stream",
     "text": [
      "['negative', 'neutral', 'positive']\n"
     ]
    }
   ],
   "source": [
    "print(classes_list)"
   ]
  },
  {
   "cell_type": "code",
   "execution_count": 96,
   "metadata": {},
   "outputs": [],
   "source": [
    "texts_for_testing, labels_for_testing = load_sentirueval_2016('banks_test_etalon.xml')"
   ]
  },
  {
   "cell_type": "code",
   "execution_count": 97,
   "metadata": {},
   "outputs": [],
   "source": [
    "from sklearn.pipeline import Pipeline"
   ]
  },
  {
   "cell_type": "code",
   "execution_count": 124,
   "metadata": {},
   "outputs": [],
   "source": [
    "pipeline_for_se = Pipeline(\n",
    "    [\n",
    "        ('vectorizer', vectorizer),\n",
    "#         ('tfidf', transformer),\n",
    "        ('selector', selector),\n",
    "        ('final_classifier', cls)\n",
    "    ]\n",
    ")"
   ]
  },
  {
   "cell_type": "code",
   "execution_count": 125,
   "metadata": {},
   "outputs": [],
   "source": [
    "from sklearn.metrics import roc_curve\n",
    "import numpy as np"
   ]
  },
  {
   "cell_type": "code",
   "execution_count": 126,
   "metadata": {},
   "outputs": [],
   "source": [
    "probabilities = pipeline_for_se.predict_proba(texts_for_testing)"
   ]
  },
  {
   "cell_type": "code",
   "execution_count": 127,
   "metadata": {},
   "outputs": [],
   "source": [
    "y_true_positives = list(map(lambda it: 1 if it == 'positive' else 0, labels_for_testing))\n",
    "y_score_positives = probabilities[:, classes_list.index('positive')]"
   ]
  },
  {
   "cell_type": "code",
   "execution_count": 128,
   "metadata": {},
   "outputs": [],
   "source": [
    "fpr_positives, tpr_positives, _, = roc_curve(y_true_positives, y_score_positives)"
   ]
  },
  {
   "cell_type": "code",
   "execution_count": 129,
   "metadata": {},
   "outputs": [],
   "source": [
    "y_true_negatives = list(map(lambda it: 1 if it == 'negative' else 0, labels_for_testing))\n",
    "y_score_negatives = probabilities[:, classes_list.index('negative')]\n",
    "fpr_negatives, tpr_negatives, _, = roc_curve(y_true_negatives, y_score_negatives)"
   ]
  },
  {
   "cell_type": "code",
   "execution_count": 130,
   "metadata": {},
   "outputs": [],
   "source": [
    "y_true_neutrals = list(map(lambda it: 1 if it == 'neutral' else 0, labels_for_testing))\n",
    "y_score_neutrals = probabilities[:, classes_list.index('neutral')]\n",
    "fpr_neutrals, tpr_neutrals, _, = roc_curve(y_true_neutrals, y_score_neutrals)"
   ]
  },
  {
   "cell_type": "code",
   "execution_count": 131,
   "metadata": {},
   "outputs": [
    {
     "data": {
      "image/png": "[encoded data removed]",
      "text/plain": [
       "<Figure size 432x288 with 1 Axes>"
      ]
     },
     "metadata": {
      "needs_background": "light"
     },
     "output_type": "display_data"
    }
   ],
   "source": [
    "import matplotlib.pyplot as plt\n",
    "plt.figure(1)\n",
    "plt.plot([0, 1], [0, 1], 'k--')\n",
    "plt.plot(fpr_positives, tpr_positives, label='Positive Sentiment')\n",
    "plt.plot(fpr_negatives, tpr_negatives, label='Negative Sentiment')\n",
    "plt.plot(fpr_neutrals, tpr_neutrals, label='Neutral Sentiment')\n",
    "plt.xlabel('False positive rate')\n",
    "plt.ylabel('True positive rate')\n",
    "plt.title('ROC curve')\n",
    "plt.legend(loc='best')\n",
    "plt.show()"
   ]
  },
  {
   "cell_type": "code",
   "execution_count": 132,
   "metadata": {},
   "outputs": [
    {
     "name": "stdout",
     "output_type": "stream",
     "text": [
      "F1-micro = 0.643827\n",
      "F1-macro = 0.510371\n"
     ]
    }
   ],
   "source": [
    "from sklearn.metrics import f1_score\n",
    "predicted_labels = pipeline_for_se.predict(texts_for_testing)\n",
    "print('F1-micro = {0:.6f}'.format(f1_score(labels_for_testing, predicted_labels, average='micro')))\n",
    "print('F1-macro = {0:.6f}'.format(f1_score(labels_for_testing, predicted_labels, average='macro')))"
   ]
  },
  {
   "cell_type": "code",
   "execution_count": 114,
   "metadata": {},
   "outputs": [
    {
     "name": "stdout",
     "output_type": "stream",
     "text": [
      "              precision    recall  f1-score   support\n",
      "\n",
      "    negative   0.592868  0.520209  0.554167       767\n",
      "     neutral   0.770146  0.896783  0.828654      2238\n",
      "    positive   0.705882  0.077922  0.140351       308\n",
      "\n",
      "    accuracy                       0.733474      3313\n",
      "   macro avg   0.689632  0.498305  0.507724      3313\n",
      "weighted avg   0.723129  0.733474  0.701117      3313\n",
      "\n"
     ]
    }
   ],
   "source": [
    "from sklearn.metrics import classification_report\n",
    "print(classification_report(labels_for_testing, predicted_labels, digits=6))"
   ]
  },
  {
   "cell_type": "code",
   "execution_count": 115,
   "metadata": {},
   "outputs": [],
   "source": [
    "from sklearn.model_selection import GridSearchCV, RandomizedSearchCV\n",
    "from sklearn.metrics import make_scorer\n",
    "f1_macro_scorer = make_scorer(f1_score, average='macro')\n",
    "cv = RandomizedSearchCV(  #GridSearchCV(\n",
    "    estimator=LogisticRegression(solver='liblinear'),\n",
    "    # param_grid={'C': [1e-2, 1e-1, 1, 1e+1, 1e+2, 1e+3], 'penalty': ['l1', 'l2']},\n",
    "    param_distributions={'C': [1e-2, 1e-1, 1, 1e+1, 1e+2, 1e+3], 'penalty': ['l1', 'l2']},\n",
    "    scoring=f1_macro_scorer,\n",
    "    n_jobs=-1\n",
    ")"
   ]
  },
  {
   "cell_type": "code",
   "execution_count": 116,
   "metadata": {},
   "outputs": [
    {
     "data": {
      "text/plain": [
       "RandomizedSearchCV(estimator=LogisticRegression(solver='liblinear'), n_jobs=-1,\n",
       "                   param_distributions={'C': [0.01, 0.1, 1, 10.0, 100.0,\n",
       "                                              1000.0],\n",
       "                                        'penalty': ['l1', 'l2']},\n",
       "                   scoring=make_scorer(f1_score, average=macro))"
      ]
     },
     "execution_count": 116,
     "metadata": {},
     "output_type": "execute_result"
    }
   ],
   "source": [
    "cv.fit(X_transformed_and_selected, labels)"
   ]
  },
  {
   "cell_type": "code",
   "execution_count": 117,
   "metadata": {},
   "outputs": [
    {
     "name": "stdout",
     "output_type": "stream",
     "text": [
      "{'penalty': 'l2', 'C': 100.0}\n"
     ]
    }
   ],
   "source": [
    "print(cv.best_params_)"
   ]
  },
  {
   "cell_type": "code",
   "execution_count": 118,
   "metadata": {},
   "outputs": [
    {
     "name": "stdout",
     "output_type": "stream",
     "text": [
      "[LibLinear]"
     ]
    },
    {
     "data": {
      "text/plain": [
       "LogisticRegression(C=10.0, penalty='l1', solver='liblinear', verbose=True)"
      ]
     },
     "execution_count": 118,
     "metadata": {},
     "output_type": "execute_result"
    }
   ],
   "source": [
    "best_cls = LogisticRegression(solver='liblinear', verbose=True, C=10.0, penalty='l1')\n",
    "best_cls.fit(X_transformed_and_selected, labels)"
   ]
  },
  {
   "cell_type": "code",
   "execution_count": 119,
   "metadata": {},
   "outputs": [],
   "source": [
    "best_pipeline_for_se = Pipeline(\n",
    "    [\n",
    "        ('vectorizer', vectorizer),\n",
    "        ('tfidf', transformer),\n",
    "        ('selector', selector),\n",
    "        ('final_classifier', best_cls)\n",
    "    ]\n",
    ")"
   ]
  },
  {
   "cell_type": "code",
   "execution_count": 120,
   "metadata": {},
   "outputs": [],
   "source": [
    "probabilities = best_pipeline_for_se.predict_proba(texts_for_testing)\n",
    "\n",
    "y_true_positives = list(map(lambda it: 1 if it == 'positive' else 0, labels_for_testing))\n",
    "y_score_positives = probabilities[:, classes_list.index('positive')]\n",
    "fpr_positives, tpr_positives, _, = roc_curve(y_true_positives, y_score_positives)\n",
    "\n",
    "y_true_negatives = list(map(lambda it: 1 if it == 'negative' else 0, labels_for_testing))\n",
    "y_score_negatives = probabilities[:, classes_list.index('negative')]\n",
    "fpr_negatives, tpr_negatives, _, = roc_curve(y_true_negatives, y_score_negatives)\n",
    "\n",
    "y_true_neutrals = list(map(lambda it: 1 if it == 'neutral' else 0, labels_for_testing))\n",
    "y_score_neutrals = probabilities[:, classes_list.index('neutral')]\n",
    "fpr_neutrals, tpr_neutrals, _, = roc_curve(y_true_neutrals, y_score_neutrals)"
   ]
  },
  {
   "cell_type": "code",
   "execution_count": 121,
   "metadata": {},
   "outputs": [
    {
     "data": {
      "image/png": "[encoded data removed]",
      "text/plain": [
       "<Figure size 432x288 with 1 Axes>"
      ]
     },
     "metadata": {
      "needs_background": "light"
     },
     "output_type": "display_data"
    }
   ],
   "source": [
    "plt.figure(2)\n",
    "plt.plot([0, 1], [0, 1], 'k--')\n",
    "plt.plot(fpr_positives, tpr_positives, label='Positive Sentiment')\n",
    "plt.plot(fpr_negatives, tpr_negatives, label='Negative Sentiment')\n",
    "plt.plot(fpr_neutrals, tpr_neutrals, label='Neutral Sentiment')\n",
    "plt.xlabel('False positive rate')\n",
    "plt.ylabel('True positive rate')\n",
    "plt.title('ROC curve')\n",
    "plt.legend(loc='best')\n",
    "plt.show()"
   ]
  },
  {
   "cell_type": "code",
   "execution_count": 122,
   "metadata": {},
   "outputs": [
    {
     "name": "stdout",
     "output_type": "stream",
     "text": [
      "F1-micro = 0.726230\n",
      "F1-macro = 0.587043\n"
     ]
    }
   ],
   "source": [
    "predicted_labels = best_pipeline_for_se.predict(texts_for_testing)\n",
    "print('F1-micro = {0:.6f}'.format(f1_score(labels_for_testing, predicted_labels, average='micro')))\n",
    "print('F1-macro = {0:.6f}'.format(f1_score(labels_for_testing, predicted_labels, average='macro')))"
   ]
  },
  {
   "cell_type": "code",
   "execution_count": 123,
   "metadata": {},
   "outputs": [
    {
     "name": "stdout",
     "output_type": "stream",
     "text": [
      "              precision    recall  f1-score   support\n",
      "\n",
      "    negative   0.587744  0.550196  0.568350       767\n",
      "     neutral   0.798473  0.840929  0.819151      2238\n",
      "    positive   0.428571  0.331169  0.373626       308\n",
      "\n",
      "    accuracy                       0.726230      3313\n",
      "   macro avg   0.604929  0.574098  0.587043      3313\n",
      "weighted avg   0.715298  0.726230  0.719669      3313\n",
      "\n"
     ]
    }
   ],
   "source": [
    "print(classification_report(labels_for_testing, predicted_labels, digits=6))"
   ]
  },
  {
   "cell_type": "code",
   "execution_count": null,
   "metadata": {},
   "outputs": [],
   "source": []
  }
 ],
 "metadata": {
  "kernelspec": {
   "display_name": "Python 3",
   "language": "python",
   "name": "python3"
  },
  "language_info": {
   "codemirror_mode": {
    "name": "ipython",
    "version": 3
   },
   "file_extension": ".py",
   "mimetype": "text/x-python",
   "name": "python",
   "nbconvert_exporter": "python",
   "pygments_lexer": "ipython3",
   "version": "3.8.3"
  }
 },
 "nbformat": 4,
 "nbformat_minor": 2
}
