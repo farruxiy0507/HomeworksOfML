{
 "cells": [
  {
   "cell_type": "code",
   "execution_count": 1,
   "metadata": {},
   "outputs": [],
   "source": [
    "from lxml import etree"
   ]
  },
  {
   "cell_type": "code",
   "execution_count": 2,
   "metadata": {},
   "outputs": [],
   "source": [
    "from typing import List, Tuple"
   ]
  },
  {
   "cell_type": "code",
   "execution_count": 3,
   "metadata": {},
   "outputs": [],
   "source": [
    "def load_sentirueval_2016(file_name: str) -> Tuple[List[str], List[str]]:\n",
    "    texts = []\n",
    "    labels = []\n",
    "    with open(file_name, mode='rb') as fp:\n",
    "        xml_data = fp.read()\n",
    "    root = etree.fromstring(xml_data)\n",
    "    for database in root.getchildren():\n",
    "        if database.tag == 'database':\n",
    "            for table in database.getchildren():\n",
    "                if table.tag != 'table':\n",
    "                    continue\n",
    "                new_text = None\n",
    "                new_label = None\n",
    "                for column in table.getchildren():\n",
    "                    if column.get('name') == 'text':\n",
    "                        new_text = str(column.text).strip()\n",
    "                        if new_label is not None:\n",
    "                            break\n",
    "                    elif column.get('name') not in {'id', 'twitid', 'date'}:\n",
    "                        if new_label is None:\n",
    "                            label_candidate = str(column.text).strip()\n",
    "                            if label_candidate in {'0', '1', '-1'}:\n",
    "                                new_label = 'negative' if label_candidate == '-1' else \\\n",
    "                                    ('positive' if label_candidate == '1' else 'neutral')\n",
    "                                if new_text is not None:\n",
    "                                    break\n",
    "                if (new_text is None) or (new_label is None):\n",
    "                    raise ValueError('File `{0}` contains some error!'.format(file_name))\n",
    "                texts.append(new_text)\n",
    "                labels.append(new_label)\n",
    "            break\n",
    "    return texts, labels"
   ]
  },
  {
   "cell_type": "code",
   "execution_count": 4,
   "metadata": {},
   "outputs": [],
   "source": [
    "texts, labels = load_sentirueval_2016('bank_train_2016.xml')"
   ]
  },
  {
   "cell_type": "code",
   "execution_count": 5,
   "metadata": {},
   "outputs": [
    {
     "name": "stdout",
     "output_type": "stream",
     "text": [
      "Number of texts is 9392, number of labels is 9392.\n"
     ]
    }
   ],
   "source": [
    "print('Number of texts is {0}, number of labels is {1}.'.format(len(texts), len(labels)))"
   ]
  },
  {
   "cell_type": "code",
   "execution_count": 6,
   "metadata": {},
   "outputs": [],
   "source": [
    "#1)токенизацию с учётом возможных смайлов (базовая токенизация некорректно\n",
    "#работает со знаками препинания и прочими неалфавитными и нецифровыми\n",
    "#символами, из которых как раз и могут состоять тонально значимые смайлы)"
   ]
  },
  {
   "cell_type": "code",
   "execution_count": 7,
   "metadata": {},
   "outputs": [],
   "source": [
    "# 2) лемматизацию с учётом контекста, чтобы успешно разрешать морфоомонимию вида\n",
    "# “​ мы ​ стали лучше программировать​ ” - “​ мы выплавляем больше ​ стали​ ” (для такой\n",
    "# лемматиции можно использовать, например, библиотеку ​ UDPipe или её адаптацию\n",
    "# под ​ SpaCy​ )"
   ]
  },
  {
   "cell_type": "code",
   "execution_count": 8,
   "metadata": {},
   "outputs": [],
   "source": [
    "# 3) удаление стоп-слов по словарям и/или правилам (например, описанным в виде\n",
    "# регулярных выражений)."
   ]
  },
  {
   "cell_type": "code",
   "execution_count": 9,
   "metadata": {},
   "outputs": [],
   "source": [
    "from nltk.tokenize import TweetTokenizer\n",
    "from rnnmorph.predictor import RNNMorphPredictor\n",
    "\n",
    "predictor = RNNMorphPredictor(language='ru')\n",
    "tokenizer = TweetTokenizer()\n",
    "\n",
    "def drop_junk(s):\n",
    "    return ' '.join([word for word in tokenizer.tokenize(s) if word.isalpha() or '!' in word or '?' in word \\\n",
    "                     or '(' in word or ')' in word])\n",
    "\n",
    "def lemmatization(s):\n",
    "    toks = tokenizer.tokenize(s)\n",
    "    forms = predictor.predict(toks)\n",
    "    return ' '.join([f.normal_form for f in forms])\n",
    "\n",
    "texts, labels = load_sentirueval_2016('bank_train_2016.xml')\n",
    "\n",
    "texts = list(map(drop_junk, texts))\n",
    "texts = list(map(lemmatization, texts))"
   ]
  },
  {
   "cell_type": "code",
   "execution_count": 10,
   "metadata": {},
   "outputs": [],
   "source": [
    "from stop_words import get_stop_words\n",
    "\n",
    "stop_words = get_stop_words('ru')"
   ]
  },
  {
   "cell_type": "code",
   "execution_count": 11,
   "metadata": {},
   "outputs": [],
   "source": [
    "import random"
   ]
  },
  {
   "cell_type": "code",
   "execution_count": 12,
   "metadata": {},
   "outputs": [
    {
     "name": "stdout",
     "output_type": "stream",
     "text": [
      "neutral => сбербанк не в список ?\n",
      "neutral => заявка на кредит в втб\n",
      "neutral => потребительский в тюмень втб\n",
      "negative => у я такой история с длиться месяц и длиться бы ещё если бы про он не написать газета ведомость\n",
      "neutral => denizbank сбербанк покупать в турция бизнес по обслуживание физлицо\n",
      "neutral => кредит в райффайзен банк\n",
      "neutral => кредит на личный нужда сбербанк\n",
      "neutral => онлайн анкета на кредит банк москва\n",
      "neutral => кредит райффайзенбанк физический лицо\n",
      "neutral => как взять кредит за день в альфа банк\n",
      "neutral => сбербанк в челябинск отделение\n",
      "neutral => как взять потребительский кредит в альфа банк\n",
      "neutral => перекредитование кредит втб\n",
      "neutral => сбербанк капитал вместе с миноритарий выставить на торг процент акция компания премиум спир\n",
      "neutral => делать ли распечатка операция карта сбербанк\n",
      "neutral => райффайзенбанк потребительский кредит нижний новгород\n",
      "neutral => в альфа банк кредит для студент\n",
      "negative => полиция задержать грабитель укравший из московский филиал сбербанк миллион рубль\n",
      "negative => закрыть счёт в сбербанк последний фраза почему мы должный работать в обед ? ещё подпись свой старый только с попытка поставить секурность !\n",
      "neutral => как взять кредит в сбербанк в самара\n"
     ]
    }
   ],
   "source": [
    "for idx in random.choices(list(range(len(texts))), k=20):\n",
    "    print('{0} => {1}'.format(labels[idx], texts[idx]))"
   ]
  },
  {
   "cell_type": "code",
   "execution_count": 13,
   "metadata": {},
   "outputs": [],
   "source": [
    "positive_tweets = [texts[idx] for idx in range(len(texts)) if labels[idx] == 'positive']\n",
    "negative_tweets = [texts[idx] for idx in range(len(texts)) if labels[idx] == 'negative']\n",
    "neutral_tweets = [texts[idx] for idx in range(len(texts)) if labels[idx] == 'neutral']"
   ]
  },
  {
   "cell_type": "code",
   "execution_count": 14,
   "metadata": {},
   "outputs": [
    {
     "name": "stdout",
     "output_type": "stream",
     "text": [
      "главный чтоб банк сбер и втб ! ! !\n",
      "самый выгодный автокредит в втб\n",
      "легко можно получить денежный кредит ы втб банка\n",
      "снижение процентный ставка по кредит на недвижимость сбербанк\n",
      "в наш сбербанк прийти американец и попросить сфоткаться с он у банкомат я ващий быть в шок и на фотка полюбома получиться смешной xd\n"
     ]
    }
   ],
   "source": [
    "for cur in positive_tweets[:5]: print(cur)"
   ]
  },
  {
   "cell_type": "code",
   "execution_count": 15,
   "metadata": {},
   "outputs": [
    {
     "name": "stdout",
     "output_type": "stream",
     "text": [
      "обязательно про сбербанк написать ! временами хлёсткий интернет магазин финт выкручивать )\n",
      "втб и сбер точно операция или запрет на кредит ?\n",
      "канада ввести санкция против газпромбанк вэба новатэк и российский оборонный компания\n",
      "rt если сбер и втб попасть под санкция быть жопа\n",
      "rt ввести санкция против оборонный и сырьевой компания и банк среди он в частность\n"
     ]
    }
   ],
   "source": [
    "for cur in negative_tweets[:5]: print(cur)"
   ]
  },
  {
   "cell_type": "code",
   "execution_count": 16,
   "metadata": {},
   "outputs": [
    {
     "name": "stdout",
     "output_type": "stream",
     "text": [
      "взять кредит тюмень альфа банк\n",
      "мнение о кредитный карта втб\n",
      "райффайзенбанк снижение ключевой ставка цб на заседание в этот пятница очень маловероятный\n",
      "современный состояние кредитный поведение в россия сбербанк\n",
      "оформить краткосрочный кредит оао банк москва\n"
     ]
    }
   ],
   "source": [
    "for cur in neutral_tweets[:5]: print(cur)"
   ]
  },
  {
   "cell_type": "code",
   "execution_count": 17,
   "metadata": {},
   "outputs": [],
   "source": [
    "from nltk import word_tokenize"
   ]
  },
  {
   "cell_type": "code",
   "execution_count": 18,
   "metadata": {},
   "outputs": [],
   "source": [
    "from sklearn.feature_extraction.text import CountVectorizer"
   ]
  },
  {
   "cell_type": "code",
   "execution_count": 19,
   "metadata": {},
   "outputs": [],
   "source": [
    "vectorizer = CountVectorizer(lowercase=True, tokenizer=word_tokenize)"
   ]
  },
  {
   "cell_type": "code",
   "execution_count": 20,
   "metadata": {},
   "outputs": [
    {
     "name": "stderr",
     "output_type": "stream",
     "text": [
      "C:\\Users\\PC\\anaconda3\\lib\\site-packages\\sklearn\\feature_extraction\\text.py:484: UserWarning: The parameter 'token_pattern' will not be used since 'tokenizer' is not None'\n",
      "  warnings.warn(\"The parameter 'token_pattern' will not be used\"\n"
     ]
    },
    {
     "data": {
      "text/plain": [
       "CountVectorizer(tokenizer=<function word_tokenize at 0x00000279F3368820>)"
      ]
     },
     "execution_count": 20,
     "metadata": {},
     "output_type": "execute_result"
    }
   ],
   "source": [
    "vectorizer.fit(texts)"
   ]
  },
  {
   "cell_type": "code",
   "execution_count": 21,
   "metadata": {},
   "outputs": [
    {
     "name": "stdout",
     "output_type": "stream",
     "text": [
      "['!', '(', ')', '-', '8', ':', ';', '=', '?', 'a', 'abncapital', 'admitad', 'ag', 'agro', 'airlines', 'ajhvf', 'alfa', 'alfabank', 'alfaclick', 'aliexpress']\n"
     ]
    }
   ],
   "source": [
    "print(vectorizer.get_feature_names()[0:20])"
   ]
  },
  {
   "cell_type": "code",
   "execution_count": 22,
   "metadata": {},
   "outputs": [
    {
     "name": "stdout",
     "output_type": "stream",
     "text": [
      "6660\n"
     ]
    }
   ],
   "source": [
    "print(len(vectorizer.get_feature_names()))"
   ]
  },
  {
   "cell_type": "code",
   "execution_count": 23,
   "metadata": {},
   "outputs": [],
   "source": [
    "X = vectorizer.transform(texts)"
   ]
  },
  {
   "cell_type": "code",
   "execution_count": 24,
   "metadata": {},
   "outputs": [
    {
     "name": "stdout",
     "output_type": "stream",
     "text": [
      "  (0, 419)\t1\n",
      "  (0, 555)\t1\n",
      "  (0, 852)\t1\n",
      "  (0, 2494)\t1\n",
      "  (0, 5979)\t1\n",
      "  (1, 1081)\t1\n",
      "  (1, 2244)\t1\n",
      "  (1, 2498)\t1\n",
      "  (1, 2889)\t1\n",
      "  (1, 3358)\t1\n",
      "  (2, 764)\t1\n",
      "  (2, 1881)\t1\n",
      "  (2, 2323)\t1\n",
      "  (2, 2744)\t1\n",
      "  (2, 2998)\t1\n",
      "  (2, 3791)\t1\n",
      "  (2, 4764)\t1\n",
      "  (2, 4860)\t1\n",
      "  (2, 5410)\t1\n",
      "  (2, 5624)\t1\n",
      "  (2, 6385)\t1\n",
      "  (2, 6601)\t1\n",
      "  (3, 764)\t1\n",
      "  (3, 2498)\t1\n",
      "  (3, 4015)\t1\n",
      "  :\t:\n",
      "  (9389, 4905)\t1\n",
      "  (9389, 5106)\t1\n",
      "  (9389, 5461)\t1\n",
      "  (9389, 6134)\t1\n",
      "  (9389, 6277)\t1\n",
      "  (9389, 6599)\t1\n",
      "  (9390, 764)\t1\n",
      "  (9390, 3320)\t1\n",
      "  (9390, 3386)\t1\n",
      "  (9390, 4069)\t1\n",
      "  (9390, 4317)\t1\n",
      "  (9390, 4471)\t1\n",
      "  (9390, 5056)\t1\n",
      "  (9390, 5157)\t1\n",
      "  (9390, 5207)\t1\n",
      "  (9390, 6261)\t1\n",
      "  (9391, 764)\t1\n",
      "  (9391, 1970)\t1\n",
      "  (9391, 2494)\t1\n",
      "  (9391, 2777)\t1\n",
      "  (9391, 3320)\t1\n",
      "  (9391, 4686)\t1\n",
      "  (9391, 5056)\t1\n",
      "  (9391, 5124)\t1\n",
      "  (9391, 6048)\t1\n"
     ]
    }
   ],
   "source": [
    "print(X)"
   ]
  },
  {
   "cell_type": "code",
   "execution_count": 25,
   "metadata": {},
   "outputs": [
    {
     "name": "stdout",
     "output_type": "stream",
     "text": [
      "взять кредит тюмень альфа банк\n"
     ]
    }
   ],
   "source": [
    "print(texts[0])"
   ]
  },
  {
   "cell_type": "code",
   "execution_count": 26,
   "metadata": {},
   "outputs": [
    {
     "name": "stdout",
     "output_type": "stream",
     "text": [
      "  (0, 419)\t1\n",
      "  (0, 555)\t1\n",
      "  (0, 852)\t1\n",
      "  (0, 2494)\t1\n",
      "  (0, 5979)\t1\n"
     ]
    }
   ],
   "source": [
    "print(X[0])"
   ]
  },
  {
   "cell_type": "code",
   "execution_count": 27,
   "metadata": {},
   "outputs": [
    {
     "name": "stdout",
     "output_type": "stream",
     "text": [
      "хакамада\n"
     ]
    }
   ],
   "source": [
    "print(vectorizer.get_feature_names()[6321])"
   ]
  },
  {
   "cell_type": "code",
   "execution_count": 28,
   "metadata": {},
   "outputs": [
    {
     "name": "stdout",
     "output_type": "stream",
     "text": [
      "тюмень\n"
     ]
    }
   ],
   "source": [
    "print(vectorizer.get_feature_names()[5979])"
   ]
  },
  {
   "cell_type": "code",
   "execution_count": null,
   "metadata": {},
   "outputs": [],
   "source": []
  },
  {
   "cell_type": "code",
   "execution_count": 29,
   "metadata": {},
   "outputs": [],
   "source": [
    "from sklearn.feature_extraction.text import TfidfTransformer"
   ]
  },
  {
   "cell_type": "code",
   "execution_count": 30,
   "metadata": {},
   "outputs": [],
   "source": [
    "transformer = TfidfTransformer().fit_transform(X)"
   ]
  },
  {
   "cell_type": "code",
   "execution_count": 31,
   "metadata": {},
   "outputs": [],
   "source": [
    "#X_transformed = transformer.transform(X)"
   ]
  },
  {
   "cell_type": "code",
   "execution_count": 32,
   "metadata": {},
   "outputs": [
    {
     "name": "stdout",
     "output_type": "stream",
     "text": [
      "  (0, 5979)\t0.7391351947070658\n",
      "  (0, 2494)\t0.22539383399193713\n",
      "  (0, 852)\t0.4219051594577849\n",
      "  (0, 555)\t0.26376023593941833\n",
      "  (0, 419)\t0.3940854703028856\n"
     ]
    }
   ],
   "source": [
    "print(transformer[0])"
   ]
  },
  {
   "cell_type": "code",
   "execution_count": 33,
   "metadata": {},
   "outputs": [],
   "source": [
    "transformer1 = TfidfTransformer().fit(X)"
   ]
  },
  {
   "cell_type": "code",
   "execution_count": 34,
   "metadata": {},
   "outputs": [],
   "source": [
    "X_transformed = transformer1.transform(X)"
   ]
  },
  {
   "cell_type": "code",
   "execution_count": 35,
   "metadata": {},
   "outputs": [
    {
     "name": "stdout",
     "output_type": "stream",
     "text": [
      "  (0, 5979)\t0.7391351947070658\n",
      "  (0, 2494)\t0.22539383399193713\n",
      "  (0, 852)\t0.4219051594577849\n",
      "  (0, 555)\t0.26376023593941833\n",
      "  (0, 419)\t0.3940854703028856\n"
     ]
    }
   ],
   "source": [
    "print(X_transformed[0])"
   ]
  },
  {
   "cell_type": "code",
   "execution_count": 36,
   "metadata": {},
   "outputs": [
    {
     "name": "stdout",
     "output_type": "stream",
     "text": [
      "хакамада\n"
     ]
    }
   ],
   "source": [
    "print(vectorizer.get_feature_names()[6321])"
   ]
  },
  {
   "cell_type": "code",
   "execution_count": 37,
   "metadata": {},
   "outputs": [
    {
     "name": "stdout",
     "output_type": "stream",
     "text": [
      "тюмень\n"
     ]
    }
   ],
   "source": [
    "print(vectorizer.get_feature_names()[5979])"
   ]
  },
  {
   "cell_type": "code",
   "execution_count": 38,
   "metadata": {},
   "outputs": [],
   "source": [
    "tokens_with_IDF = list(zip(vectorizer.get_feature_names(), transformer1.idf_))"
   ]
  },
  {
   "cell_type": "code",
   "execution_count": 39,
   "metadata": {},
   "outputs": [
    {
     "name": "stdout",
     "output_type": "stream",
     "text": [
      "4.417620 => !\n",
      "4.805386 => (\n",
      "4.443938 => )\n",
      "8.355961 => -\n",
      "9.049108 => 8\n",
      "6.020586 => :\n",
      "8.068278 => ;\n",
      "8.201810 => =\n",
      "4.440610 => ?\n",
      "9.049108 => a\n",
      "9.454573 => abncapital\n",
      "9.454573 => admitad\n",
      "9.049108 => ag\n",
      "9.049108 => agro\n",
      "9.454573 => airlines\n",
      "9.454573 => ajhvf\n",
      "9.049108 => alfa\n",
      "8.355961 => alfabank\n",
      "9.049108 => alfaclick\n",
      "9.454573 => aliexpress\n"
     ]
    }
   ],
   "source": [
    "for feature, idf in tokens_with_IDF[0:20]: print('{0:.6f} => {1}'.format(idf, feature))"
   ]
  },
  {
   "cell_type": "code",
   "execution_count": 40,
   "metadata": {},
   "outputs": [],
   "source": [
    "sorted_tokens_with_IDF = sorted(tokens_with_IDF, key=lambda it: (-it[1], it[0]))"
   ]
  },
  {
   "cell_type": "code",
   "execution_count": 41,
   "metadata": {},
   "outputs": [
    {
     "name": "stdout",
     "output_type": "stream",
     "text": [
      "9.454573 => abncapital\n",
      "9.454573 => admitad\n",
      "9.454573 => airlines\n",
      "9.454573 => ajhvf\n",
      "9.454573 => aliexpress\n",
      "9.454573 => api\n",
      "9.454573 => app\n",
      "9.454573 => apps\n",
      "9.454573 => appstore\n",
      "9.454573 => autopaymts\n",
      "9.454573 => back\n",
      "9.454573 => bankvtb\n",
      "9.454573 => best\n",
      "9.454573 => biznews\n",
      "9.454573 => blackberry\n",
      "9.454573 => blatt\n",
      "9.454573 => bump\n",
      "9.454573 => camp\n",
      "9.454573 => cash\n",
      "9.454573 => cetelem\n"
     ]
    }
   ],
   "source": [
    "for feature, idf in sorted_tokens_with_IDF[0:20]: print('{0:.6f} => {1}'.format(idf, feature))"
   ]
  },
  {
   "cell_type": "code",
   "execution_count": 42,
   "metadata": {},
   "outputs": [],
   "source": [
    "from sklearn.feature_selection import SelectPercentile, chi2"
   ]
  },
  {
   "cell_type": "code",
   "execution_count": 43,
   "metadata": {},
   "outputs": [],
   "source": [
    "selector = SelectPercentile(chi2, percentile=20)"
   ]
  },
  {
   "cell_type": "code",
   "execution_count": 44,
   "metadata": {},
   "outputs": [
    {
     "data": {
      "text/plain": [
       "SelectPercentile(percentile=20,\n",
       "                 score_func=<function chi2 at 0x0000027986ECFC10>)"
      ]
     },
     "execution_count": 44,
     "metadata": {},
     "output_type": "execute_result"
    }
   ],
   "source": [
    "selector.fit(X_transformed, labels)"
   ]
  },
  {
   "cell_type": "code",
   "execution_count": 45,
   "metadata": {},
   "outputs": [],
   "source": [
    "selected_tokens_with_IDF = [tokens_with_IDF[idx] for idx in selector.get_support(indices=True)]"
   ]
  },
  {
   "cell_type": "code",
   "execution_count": 46,
   "metadata": {},
   "outputs": [
    {
     "name": "stdout",
     "output_type": "stream",
     "text": [
      "1332\n"
     ]
    }
   ],
   "source": [
    "print(len(selected_tokens_with_IDF))"
   ]
  },
  {
   "cell_type": "code",
   "execution_count": 47,
   "metadata": {},
   "outputs": [
    {
     "name": "stdout",
     "output_type": "stream",
     "text": [
      "4.417620 => !\n",
      "4.805386 => (\n",
      "4.443938 => )\n",
      "6.020586 => :\n",
      "8.201810 => =\n",
      "4.440610 => ?\n",
      "9.049108 => apple\n",
      "9.454573 => appstore\n",
      "8.761426 => awards\n",
      "8.538282 => boerse\n",
      "9.049108 => brkng\n",
      "9.049108 => cemitsvetic\n",
      "9.454573 => come\n",
      "9.454573 => euro\n",
      "7.056678 => finance\n",
      "7.439670 => fitch\n",
      "8.761426 => ft\n",
      "7.845135 => ftse\n",
      "7.151988 => global\n",
      "9.454573 => hsbc\n"
     ]
    }
   ],
   "source": [
    "for feature, idf in selected_tokens_with_IDF[0:20]: print('{0:.6f} => {1}'.format(idf, feature))"
   ]
  },
  {
   "cell_type": "code",
   "execution_count": 48,
   "metadata": {},
   "outputs": [],
   "source": [
    "selected_and_sorted_tokens_with_IDF = sorted(selected_tokens_with_IDF, key=lambda it: (-it[1], it[0]))"
   ]
  },
  {
   "cell_type": "code",
   "execution_count": 49,
   "metadata": {},
   "outputs": [
    {
     "name": "stdout",
     "output_type": "stream",
     "text": [
      "9.454573 => appstore\n",
      "9.454573 => come\n",
      "9.454573 => euro\n",
      "9.454573 => hsbc\n",
      "9.454573 => london\n",
      "9.454573 => moneynews\n",
      "9.454573 => n\n",
      "9.454573 => nalexandrowa\n",
      "9.454573 => play\n",
      "9.454573 => plc\n",
      "9.454573 => rdx\n",
      "9.454573 => softkey\n",
      "9.454573 => spo\n",
      "9.454573 => автолюбитель\n",
      "9.454573 => автоматический\n",
      "9.454573 => автопроверка\n",
      "9.454573 => адекватный\n",
      "9.454573 => азс\n",
      "9.454573 => ай\n",
      "9.454573 => аккредитовый\n"
     ]
    }
   ],
   "source": [
    "for feature, idf in selected_and_sorted_tokens_with_IDF[0:20]: print('{0:.6f} => {1}'.format(idf, feature))"
   ]
  },
  {
   "cell_type": "code",
   "execution_count": null,
   "metadata": {},
   "outputs": [],
   "source": []
  }
 ],
 "metadata": {
  "kernelspec": {
   "display_name": "Python 3",
   "language": "python",
   "name": "python3"
  },
  "language_info": {
   "codemirror_mode": {
    "name": "ipython",
    "version": 3
   },
   "file_extension": ".py",
   "mimetype": "text/x-python",
   "name": "python",
   "nbconvert_exporter": "python",
   "pygments_lexer": "ipython3",
   "version": "3.8.3"
  }
 },
 "nbformat": 4,
 "nbformat_minor": 2
}
